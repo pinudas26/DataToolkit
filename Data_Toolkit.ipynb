{
  "nbformat": 4,
  "nbformat_minor": 0,
  "metadata": {
    "colab": {
      "provenance": []
    },
    "kernelspec": {
      "name": "python3",
      "display_name": "Python 3"
    },
    "language_info": {
      "name": "python"
    }
  },
  "cells": [
    {
      "cell_type": "markdown",
      "source": [
        "**Data Toolkit Assignment Questions & Answers**"
      ],
      "metadata": {
        "id": "f9DEOitMny5D"
      }
    },
    {
      "cell_type": "markdown",
      "source": [
        "1. What is NumPy, and why is it widely used in Python?\n",
        "   - Numpy is a general-purpose array-processing package. It provides a high-performance multidimensional array object, and tools for working with these arrays.\n",
        "   - It is the fundamental package for scientific computing with Python.\n",
        "   - Besides its obvious scientific uses, Numpy can also be used as an efficient multi-dimensional container of generic data.\n",
        "   - Arrays in Numpy\n",
        "     - Array in Numpy is a table of elements (usually numbers), all of the same type, indexed by a tuple of positive integers.\n",
        "     - In Numpy, number of dimensions of the array is called rank of the array.\n",
        "     - A tuple of integers giving the size of the array along each dimension is known as shape of the array.\n",
        "     - An array class in Numpy is called as ndarray. Elements in Numpy arrays are accessed by using square brackets and can be initialized by using nested Python Lists.\n",
        "   - Creating a Numpy Array\n",
        "     - Arrays in Numpy can be created by multiple ways, with various number of Ranks, defining the size of the Array.\n",
        "     - Arrays can also be created with the use of various data types such as lists, tuples, etc.\n",
        "     - The type of the resultant array is deduced from the type of the elements in the sequences."
      ],
      "metadata": {
        "id": "w9KHnjxHn_oi"
      }
    },
    {
      "cell_type": "code",
      "source": [
        "# Python program for\n",
        "# Creation of Arrays\n",
        "import numpy as np\n",
        "\n",
        "# Creating a rank 1 Array\n",
        "arr = np.array([1, 2, 3])\n",
        "print(\"Array with Rank 1: \\n\",arr)\n",
        "\n",
        "# Creating a rank 2 Array\n",
        "arr = np.array([[1, 2, 3],\n",
        "                [4, 5, 6]])\n",
        "print(\"Array with Rank 2: \\n\", arr)\n",
        "\n",
        "# Creating an array from tuple\n",
        "arr = np.array((1, 3, 2))\n",
        "print(\"\\nArray created using \"\n",
        "      \"passed tuple:\\n\", arr)\n"
      ],
      "metadata": {
        "colab": {
          "base_uri": "https://localhost:8080/"
        },
        "id": "zhGyumJEo6wz",
        "outputId": "ba0ae0e5-3fb2-4831-cc36-f00665604ef0"
      },
      "execution_count": null,
      "outputs": [
        {
          "output_type": "stream",
          "name": "stdout",
          "text": [
            "Array with Rank 1: \n",
            " [1 2 3]\n",
            "Array with Rank 2: \n",
            " [[1 2 3]\n",
            " [4 5 6]]\n",
            "\n",
            "Array created using passed tuple:\n",
            " [1 3 2]\n"
          ]
        }
      ]
    },
    {
      "cell_type": "markdown",
      "source": [
        "2. How does broadcasting work in NumPy?\n",
        "  - Broadcasting simplifies mathematical operations on arrays with different shapes.\n",
        "  - It enables NumPy to efficiently apply operations element-wise without explicitly copying or reshaping data.\n",
        "  - It automatically adjusts the smaller array to match the shape of the larger array by replicating its values along the necessary dimensions.  - This feature reduces memory usage and eliminates the need for manual loops making code concise and computationally faster making it essential for handling large datasets and performing complex calculations in python.\n",
        "  - Let’s understand the concept with quick example: Suppose we want to add scalar to a 2D Array."
      ],
      "metadata": {
        "id": "M2ToaFCjo_fV"
      }
    },
    {
      "cell_type": "code",
      "source": [
        "import numpy as np\n",
        "\n",
        "array_2d = np.array([[1, 2, 3], [4, 5, 6]])  # 2D array\n",
        "scalar = 10  # Scalar value\n",
        "\n",
        "result = array_2d + scalar\n",
        "print(result)\n"
      ],
      "metadata": {
        "colab": {
          "base_uri": "https://localhost:8080/"
        },
        "id": "pNrdxmC1qkQy",
        "outputId": "a4bb6e1e-8711-4ca0-a631-6dab2b0dcf0a"
      },
      "execution_count": null,
      "outputs": [
        {
          "output_type": "stream",
          "name": "stdout",
          "text": [
            "[[11 12 13]\n",
            " [14 15 16]]\n"
          ]
        }
      ]
    },
    {
      "cell_type": "markdown",
      "source": [
        "3. What is a Pandas DataFrame?\n",
        "   - Pandas DataFrame is two-dimensional size-mutable, potentially heterogeneous tabular data structure with labeled axes (rows and columns).\n",
        "   - A Data frame is a two-dimensional data structure, i.e., data is aligned in a tabular fashion in rows and columns.\n",
        "   - Pandas DataFrame consists of three principal components, the data, rows, and columns.\n",
        "\n",
        "4. Explain the use of the groupby() method in Pandas.\n",
        "   - Groupby is a fundamental and powerful data analysis technique in data analysis .\n",
        "   - It allows you to group categories and apply functions to them efficiently, making it essential for handling large datasets.\n",
        "   - Its ability to aggregate data with minimal code and high performance makes it invaluable for real-world projects.\n",
        "   - Groupby mainly refers to a process involving one or more of the following steps they are:\n",
        "      - Splitting : It is a process in which we split data into group by applying some conditions on datasets.\n",
        "      - Applying : It is a process in which we apply a function to each group independently.\n",
        "      - Combining : It is a process in which we combine different datasets after applying groupby and results into a data structure.\n",
        "\n",
        "5. Why is Seaborn preferred for statistical visualizations?\n",
        "   - Seaborn is a Python data visualization library based on matplotlib.\n",
        "   - It provides a high-level interface for drawing attractive and informative statistical graphics.\n",
        "   - Data visualization can be done by seaborn and it can transform complex datasets into clear visual representations making it easier to understand, identify trends and relationships within the data.\n",
        "\n",
        "6. What are the differences between NumPy arrays and Python lists?\n",
        "   - **NumPy Arrays**\n",
        "     - Homogeneous Data: NumPy arrays store elements of the same data type, making them more compact and memory-efficient than lists.\n",
        "     - Fixed Data Type: NumPy arrays have a fixed data type, reducing memory overhead by eliminating the need to store type information for each element.\n",
        "     - Contiguous Memory: NumPy arrays store elements in adjacent memory locations, reducing fragmentation and allowing for efficient access.\n",
        "     - Array Metadata: NumPy arrays have extra metadata like shape, strides, and data type. However, this overhead is usually smaller than the per-element overhead in lists.\n",
        "     - Performance: NumPy arrays are optimized for numerical computations, with efficient element-wise operations and mathematical functions. These operations are implemented in C, resulting in faster performance than equivalent operations on lists.\n",
        "     ![image.png](data:image/png;base64,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)\n",
        "   - **Python Lists**\n",
        "     - Element Overhead: Lists in Python store additional information about each element, such as its type and reference count. This overhead can be significant when dealing with a large number of elements.\n",
        "     - Datatype: Lists can hold different data types, but this can decrease memory efficiency and slow numerical operations.\n",
        "     - Memory Fragmentation: Lists may not store elements in contiguous memory locations, causing memory fragmentation and inefficiency.\n",
        "     - Performance: Lists are not optimized for numerical computations and may have slower mathematical operations due to Python’s interpretation overhead. They are generally used as general-purpose data structures.\n",
        "     - Functionality: Lists can store any data type, but lack specialized NumPy functions for numerical operations.\n",
        "     ![image.png](data:image/png;base64,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)\n",
        "     "
      ],
      "metadata": {
        "id": "qJcpy33nqqEZ"
      }
    },
    {
      "cell_type": "markdown",
      "source": [
        " 7. What is a heatmap, and when should it be used?\n",
        "    - A heatmap is a visual representation of data where values are depicted by color, allowing for quick comprehension of complex information and highlighting areas of high or low intensity.\n",
        "    - They are useful for analyzing user behavior, identifying patterns, and optimizing designs or processes.\n",
        "    - Visual Representation:\n",
        "      - Heatmaps use color gradients to represent data values, with warmer colors (like red or yellow) indicating higher values and cooler colors (like blue or green) indicating lower values.\n",
        "    - Data Visualization:\n",
        "      - They are a powerful tool for visualizing data, making it easier to spot trends, patterns, and areas of interest that might be hidden in raw data.\n",
        "    - Applications:\n",
        "      - Heatmaps are used in various fields, including:\n",
        "         - Website Analysis: Understanding user behavior, identifying areas of high engagement, and optimizing website design.\n",
        "         - Data Analysis: Visualizing data distributions, identifying correlations, and spotting outliers.\n",
        "         - Marketing and Advertising: Assessing the effectiveness of ads, understanding user engagement with different elements, and optimizing campaigns.\n",
        "         - Product Design: Identifying areas of a product that are well-used or underutilized, and informing design decisions.\n",
        "         - Retail: Analyzing foot traffic patterns, optimizing store layouts, and improving resource allocation."
      ],
      "metadata": {
        "id": "krcHvNXhCYGi"
      }
    },
    {
      "cell_type": "markdown",
      "source": [
        " 8. What does the term “vectorized operation” mean in NumPy?\n",
        "    - Vectorized operations in NumPy enable the use of efficient, pre-compiled functions and mathematical operations on NumPy arrays and data sequences. Vectorization is a method of performing array operations without the use of for loops.\n",
        "\n",
        " 9. How does Matplotlib differ from Plotly?\n",
        "   - Matplotlib is more explicit in declaring each plot element, making it an ideal place for new Python users to start, while Plotly is well-suited for creating interactive plots to be displayed in a web browser.\n",
        "\n",
        " 10. What is the significance of hierarchical indexing in Pandas?\n",
        "     - Hierarchical Indexing, also known as MultiIndexing, is a powerful feature in Pandas that allows you to have multiple levels of indexing on an axis (row or column).\n",
        "     - This capability is particularly useful when dealing with high-dimensional data.\n",
        "     - Hierarchical indexing is a method of creating structured group relationships in data. These hierarchical indexes, or MultiIndexes, are highly flexible and offer a range of options when performing complex data queries.\n",
        "     - Hierarchical indexing is one of the functions in pandas, a software library for the Python programming languages.\n",
        "     - pandas derives its name from the term “panel data”, a statistical term for four-dimensional data models that show changes over time.\n",
        "     - The pandas library includes multiple tools that support detailed data queries.\n",
        "\n",
        "  11. What is the role of Seaborn’s pairplot() function?\n",
        "      - Seaborn's pairplot() function creates a grid of pairwise relationships (scatterplots and histograms) between variables in a dataset, allowing for easy visualization of distributions and correlations.\n",
        "\n",
        "  12. What is the purpose of the describe() function in Pandas?\n",
        "      - describe() method in Pandas is used to generate descriptive statistics of DataFrame columns.\n",
        "      - It gives a quick summary of key statistical metrics like mean, standard deviation, percentiles, and more.\n",
        "      - By default, describe() works with numeric data but can also handle categorical data, offering tailored insights based on data type.\n",
        "      - Syntax: DataFrame.describe(percentiles=None, include=None, exclude=None)\n",
        "\n",
        " 13. Why is handling missing data important in Pandas?\n",
        "    - Handling missing data in Pandas is crucial because it can lead to inaccurate analysis, biased models, and incorrect conclusions, ultimately impacting the quality of your data and insights.\n",
        "\n",
        " 14. What are the benefits of using Plotly for data visualization?\n",
        "    - Plotly is an open-source Python library for creating interactive visualizations like line charts, scatter plots, bar charts and more.\n",
        "    - In this article, we will explore plotting in Plotly and covers how to create basic charts and enhance them with interactive features.\n",
        "\n",
        " 15. How does NumPy handle multidimensional arrays?\n",
        "     - NumPy is a general-purpose array-processing package.\n",
        "     - It provides a high-performance multidimensional array object and tools for working with these arrays.\n",
        "     - It is the fundamental package for scientific computing with Python."
      ],
      "metadata": {
        "id": "VJgHKN1zC-I7"
      }
    },
    {
      "cell_type": "code",
      "source": [
        "import numpy as np\n",
        "\n",
        "arr_m = np.arange(12).reshape(6, 2)\n",
        "print(arr_m)\n"
      ],
      "metadata": {
        "colab": {
          "base_uri": "https://localhost:8080/"
        },
        "id": "qHdloAIlJLUg",
        "outputId": "4b1ee718-c60d-4fc7-ef50-73a8e90d9cf9"
      },
      "execution_count": 1,
      "outputs": [
        {
          "output_type": "stream",
          "name": "stdout",
          "text": [
            "[[ 0  1]\n",
            " [ 2  3]\n",
            " [ 4  5]\n",
            " [ 6  7]\n",
            " [ 8  9]\n",
            " [10 11]]\n"
          ]
        }
      ]
    },
    {
      "cell_type": "markdown",
      "source": [
        " 16. What is the role of Bokeh in data visualization?\n",
        "     - Bokeh is a Python library that enables interactive and dynamic data visualization in web browsers, allowing users to create beautiful and complex plots and dashboards with high-performance interactivity, especially for large and streaming datasets.\n",
        "\n",
        " 17. Explain the difference between apply() and map() in Pandas?\n",
        "     - 'apply' can be used on both Series(Element-wise) and DataFrames(Rows or Columns), returns a new Dataframe or series. 'map' applies a function to each element of a series and returns a new series with the function applied. Often used when a transformation or substitution is needed.\n",
        "\n",
        " 18. What are some advanced features of NumPy?\n",
        "     - NumPy, a cornerstone for numerical computing in Python, offers advanced features like broadcasting, advanced indexing, and sophisticated linear algebra capabilities, enabling efficient data manipulation and analysis.\n",
        "     - Features:\n",
        "       - Broadcasting\n",
        "       - Multidimensional arrays\n",
        "       - Fancy indexing\n",
        "       - Array\n",
        "       - Arrays in NumPy\n",
        "       - Fourier transform\n",
        "       - Linear algebra\n",
        "       - Slicing\n",
        "       - Universal functions\n",
        "\n",
        "  19. How does Pandas simplify time series analysis?\n",
        "     - Time series data is a sequence of data points in chronological order that is used by businesses to analyze past data and make future predictions.\n",
        "     - These data points are a set of observations at specified times and equal intervals, typically with a datetime index and corresponding value.\n",
        "     - To work with time series data in pandas, we use a DatetimeIndex as the index for our DataFrame (or Series).\n",
        "     - Let's see how to do this with our OPSD data set. First, we use the read_csv() function to read the data into a DataFrame, and then display its shape.\n",
        "\n",
        " 20. What is the role of a pivot table in Pandas?\n",
        "    - Pandas pivot tables work in a very similar way to those found in spreadsheet tools such as Microsoft Excel.\n",
        "    - The pivot table function takes in a data frame and the parameters detailing the shape you want the data to take.\n",
        "    - Then it outputs summarized data in the form of a pivot table.\n",
        "\n",
        " 21. Why is NumPy’s array slicing faster than Python’s list slicing?\n",
        "    - This leverages compiled C code under the hood, making computations much faster.\n",
        "    - Efficient Memory Usage: NumPy arrays are more memory-efficient than lists because they store elements of the same data type in contiguous memory locations.\n",
        "    - Lists, by contrast, can hold objects of different types, requiring more overhead.\n",
        "\n",
        " 22. What are some common use cases for Seaborn?\n",
        "     - Seaborn, a Python library built on Matplotlib, is commonly used for creating statistical visualizations and exploring data in fields like data science and machine learning, offering a high-level interface for generating attractive and informative plots.\n",
        "     - It uses in  Exploratory Data Analysis (EDA), Statistical Analysis,  Machine Learning etc."
      ],
      "metadata": {
        "id": "8z0r7WHBJVFN"
      }
    },
    {
      "cell_type": "markdown",
      "source": [
        "**Practical**\n",
        "1. How do you create a 2D NumPy array and calculate the sum of each row"
      ],
      "metadata": {
        "id": "3fp4PgqNMYS-"
      }
    },
    {
      "cell_type": "code",
      "source": [
        "# Python Program illustrating\n",
        "# numpy.sum() method\n",
        "import numpy as np\n",
        "\n",
        "# 1D array\n",
        "arr = [20, 2, .2, 10, 4]\n",
        "\n",
        "print(\"\\nSum of arr : \", np.sum(arr))\n",
        "\n",
        "print(\"Sum of arr(uint8) : \", np.sum(arr, dtype = np.uint8))\n",
        "print(\"Sum of arr(float32) : \", np.sum(arr, dtype = np.float32))\n",
        "\n",
        "print (\"\\nIs np.sum(arr).dtype == np.uint : \",\n",
        "    np.sum(arr).dtype == np.uint)\n",
        "\n",
        "print (\"Is np.sum(arr).dtype == np.float : \",\n",
        "    np.sum(arr).dtype == np.float)\n"
      ],
      "metadata": {
        "id": "lkTl1arHMsZ2"
      },
      "execution_count": null,
      "outputs": []
    },
    {
      "cell_type": "markdown",
      "source": [
        "2. Write a Pandas script to find the mean of a specific column in a DataFrame."
      ],
      "metadata": {
        "id": "f01JkeQ0NFMe"
      }
    },
    {
      "cell_type": "code",
      "source": [
        "# importing pandas as pd\n",
        "import pandas as pd\n",
        "\n",
        "# Creating the dataframe\n",
        "df = pd.DataFrame({\"A\":[12, 4, 5, 44, 1],\n",
        "                \"B\":[5, 2, 54, 3, 2],\n",
        "                \"C\":[20, 16, 7, 3, 8],\n",
        "                \"D\":[14, 3, 17, 2, 6]})\n",
        "\n",
        "# Print the dataframe\n",
        "df\n"
      ],
      "metadata": {
        "colab": {
          "base_uri": "https://localhost:8080/",
          "height": 206
        },
        "id": "TTPKqJ7PNLyv",
        "outputId": "69387009-afcc-48a3-f999-1aa95a16dd4f"
      },
      "execution_count": 3,
      "outputs": [
        {
          "output_type": "execute_result",
          "data": {
            "text/plain": [
              "    A   B   C   D\n",
              "0  12   5  20  14\n",
              "1   4   2  16   3\n",
              "2   5  54   7  17\n",
              "3  44   3   3   2\n",
              "4   1   2   8   6"
            ],
            "text/html": [
              "\n",
              "  <div id=\"df-c1014521-8043-4cf1-b0d4-2fc9dcfedf74\" class=\"colab-df-container\">\n",
              "    <div>\n",
              "<style scoped>\n",
              "    .dataframe tbody tr th:only-of-type {\n",
              "        vertical-align: middle;\n",
              "    }\n",
              "\n",
              "    .dataframe tbody tr th {\n",
              "        vertical-align: top;\n",
              "    }\n",
              "\n",
              "    .dataframe thead th {\n",
              "        text-align: right;\n",
              "    }\n",
              "</style>\n",
              "<table border=\"1\" class=\"dataframe\">\n",
              "  <thead>\n",
              "    <tr style=\"text-align: right;\">\n",
              "      <th></th>\n",
              "      <th>A</th>\n",
              "      <th>B</th>\n",
              "      <th>C</th>\n",
              "      <th>D</th>\n",
              "    </tr>\n",
              "  </thead>\n",
              "  <tbody>\n",
              "    <tr>\n",
              "      <th>0</th>\n",
              "      <td>12</td>\n",
              "      <td>5</td>\n",
              "      <td>20</td>\n",
              "      <td>14</td>\n",
              "    </tr>\n",
              "    <tr>\n",
              "      <th>1</th>\n",
              "      <td>4</td>\n",
              "      <td>2</td>\n",
              "      <td>16</td>\n",
              "      <td>3</td>\n",
              "    </tr>\n",
              "    <tr>\n",
              "      <th>2</th>\n",
              "      <td>5</td>\n",
              "      <td>54</td>\n",
              "      <td>7</td>\n",
              "      <td>17</td>\n",
              "    </tr>\n",
              "    <tr>\n",
              "      <th>3</th>\n",
              "      <td>44</td>\n",
              "      <td>3</td>\n",
              "      <td>3</td>\n",
              "      <td>2</td>\n",
              "    </tr>\n",
              "    <tr>\n",
              "      <th>4</th>\n",
              "      <td>1</td>\n",
              "      <td>2</td>\n",
              "      <td>8</td>\n",
              "      <td>6</td>\n",
              "    </tr>\n",
              "  </tbody>\n",
              "</table>\n",
              "</div>\n",
              "    <div class=\"colab-df-buttons\">\n",
              "\n",
              "  <div class=\"colab-df-container\">\n",
              "    <button class=\"colab-df-convert\" onclick=\"convertToInteractive('df-c1014521-8043-4cf1-b0d4-2fc9dcfedf74')\"\n",
              "            title=\"Convert this dataframe to an interactive table.\"\n",
              "            style=\"display:none;\">\n",
              "\n",
              "  <svg xmlns=\"http://www.w3.org/2000/svg\" height=\"24px\" viewBox=\"0 -960 960 960\">\n",
              "    <path d=\"M120-120v-720h720v720H120Zm60-500h600v-160H180v160Zm220 220h160v-160H400v160Zm0 220h160v-160H400v160ZM180-400h160v-160H180v160Zm440 0h160v-160H620v160ZM180-180h160v-160H180v160Zm440 0h160v-160H620v160Z\"/>\n",
              "  </svg>\n",
              "    </button>\n",
              "\n",
              "  <style>\n",
              "    .colab-df-container {\n",
              "      display:flex;\n",
              "      gap: 12px;\n",
              "    }\n",
              "\n",
              "    .colab-df-convert {\n",
              "      background-color: #E8F0FE;\n",
              "      border: none;\n",
              "      border-radius: 50%;\n",
              "      cursor: pointer;\n",
              "      display: none;\n",
              "      fill: #1967D2;\n",
              "      height: 32px;\n",
              "      padding: 0 0 0 0;\n",
              "      width: 32px;\n",
              "    }\n",
              "\n",
              "    .colab-df-convert:hover {\n",
              "      background-color: #E2EBFA;\n",
              "      box-shadow: 0px 1px 2px rgba(60, 64, 67, 0.3), 0px 1px 3px 1px rgba(60, 64, 67, 0.15);\n",
              "      fill: #174EA6;\n",
              "    }\n",
              "\n",
              "    .colab-df-buttons div {\n",
              "      margin-bottom: 4px;\n",
              "    }\n",
              "\n",
              "    [theme=dark] .colab-df-convert {\n",
              "      background-color: #3B4455;\n",
              "      fill: #D2E3FC;\n",
              "    }\n",
              "\n",
              "    [theme=dark] .colab-df-convert:hover {\n",
              "      background-color: #434B5C;\n",
              "      box-shadow: 0px 1px 3px 1px rgba(0, 0, 0, 0.15);\n",
              "      filter: drop-shadow(0px 1px 2px rgba(0, 0, 0, 0.3));\n",
              "      fill: #FFFFFF;\n",
              "    }\n",
              "  </style>\n",
              "\n",
              "    <script>\n",
              "      const buttonEl =\n",
              "        document.querySelector('#df-c1014521-8043-4cf1-b0d4-2fc9dcfedf74 button.colab-df-convert');\n",
              "      buttonEl.style.display =\n",
              "        google.colab.kernel.accessAllowed ? 'block' : 'none';\n",
              "\n",
              "      async function convertToInteractive(key) {\n",
              "        const element = document.querySelector('#df-c1014521-8043-4cf1-b0d4-2fc9dcfedf74');\n",
              "        const dataTable =\n",
              "          await google.colab.kernel.invokeFunction('convertToInteractive',\n",
              "                                                    [key], {});\n",
              "        if (!dataTable) return;\n",
              "\n",
              "        const docLinkHtml = 'Like what you see? Visit the ' +\n",
              "          '<a target=\"_blank\" href=https://colab.research.google.com/notebooks/data_table.ipynb>data table notebook</a>'\n",
              "          + ' to learn more about interactive tables.';\n",
              "        element.innerHTML = '';\n",
              "        dataTable['output_type'] = 'display_data';\n",
              "        await google.colab.output.renderOutput(dataTable, element);\n",
              "        const docLink = document.createElement('div');\n",
              "        docLink.innerHTML = docLinkHtml;\n",
              "        element.appendChild(docLink);\n",
              "      }\n",
              "    </script>\n",
              "  </div>\n",
              "\n",
              "\n",
              "<div id=\"df-96354743-8e1b-451d-87a3-cd15bfa8aee5\">\n",
              "  <button class=\"colab-df-quickchart\" onclick=\"quickchart('df-96354743-8e1b-451d-87a3-cd15bfa8aee5')\"\n",
              "            title=\"Suggest charts\"\n",
              "            style=\"display:none;\">\n",
              "\n",
              "<svg xmlns=\"http://www.w3.org/2000/svg\" height=\"24px\"viewBox=\"0 0 24 24\"\n",
              "     width=\"24px\">\n",
              "    <g>\n",
              "        <path d=\"M19 3H5c-1.1 0-2 .9-2 2v14c0 1.1.9 2 2 2h14c1.1 0 2-.9 2-2V5c0-1.1-.9-2-2-2zM9 17H7v-7h2v7zm4 0h-2V7h2v10zm4 0h-2v-4h2v4z\"/>\n",
              "    </g>\n",
              "</svg>\n",
              "  </button>\n",
              "\n",
              "<style>\n",
              "  .colab-df-quickchart {\n",
              "      --bg-color: #E8F0FE;\n",
              "      --fill-color: #1967D2;\n",
              "      --hover-bg-color: #E2EBFA;\n",
              "      --hover-fill-color: #174EA6;\n",
              "      --disabled-fill-color: #AAA;\n",
              "      --disabled-bg-color: #DDD;\n",
              "  }\n",
              "\n",
              "  [theme=dark] .colab-df-quickchart {\n",
              "      --bg-color: #3B4455;\n",
              "      --fill-color: #D2E3FC;\n",
              "      --hover-bg-color: #434B5C;\n",
              "      --hover-fill-color: #FFFFFF;\n",
              "      --disabled-bg-color: #3B4455;\n",
              "      --disabled-fill-color: #666;\n",
              "  }\n",
              "\n",
              "  .colab-df-quickchart {\n",
              "    background-color: var(--bg-color);\n",
              "    border: none;\n",
              "    border-radius: 50%;\n",
              "    cursor: pointer;\n",
              "    display: none;\n",
              "    fill: var(--fill-color);\n",
              "    height: 32px;\n",
              "    padding: 0;\n",
              "    width: 32px;\n",
              "  }\n",
              "\n",
              "  .colab-df-quickchart:hover {\n",
              "    background-color: var(--hover-bg-color);\n",
              "    box-shadow: 0 1px 2px rgba(60, 64, 67, 0.3), 0 1px 3px 1px rgba(60, 64, 67, 0.15);\n",
              "    fill: var(--button-hover-fill-color);\n",
              "  }\n",
              "\n",
              "  .colab-df-quickchart-complete:disabled,\n",
              "  .colab-df-quickchart-complete:disabled:hover {\n",
              "    background-color: var(--disabled-bg-color);\n",
              "    fill: var(--disabled-fill-color);\n",
              "    box-shadow: none;\n",
              "  }\n",
              "\n",
              "  .colab-df-spinner {\n",
              "    border: 2px solid var(--fill-color);\n",
              "    border-color: transparent;\n",
              "    border-bottom-color: var(--fill-color);\n",
              "    animation:\n",
              "      spin 1s steps(1) infinite;\n",
              "  }\n",
              "\n",
              "  @keyframes spin {\n",
              "    0% {\n",
              "      border-color: transparent;\n",
              "      border-bottom-color: var(--fill-color);\n",
              "      border-left-color: var(--fill-color);\n",
              "    }\n",
              "    20% {\n",
              "      border-color: transparent;\n",
              "      border-left-color: var(--fill-color);\n",
              "      border-top-color: var(--fill-color);\n",
              "    }\n",
              "    30% {\n",
              "      border-color: transparent;\n",
              "      border-left-color: var(--fill-color);\n",
              "      border-top-color: var(--fill-color);\n",
              "      border-right-color: var(--fill-color);\n",
              "    }\n",
              "    40% {\n",
              "      border-color: transparent;\n",
              "      border-right-color: var(--fill-color);\n",
              "      border-top-color: var(--fill-color);\n",
              "    }\n",
              "    60% {\n",
              "      border-color: transparent;\n",
              "      border-right-color: var(--fill-color);\n",
              "    }\n",
              "    80% {\n",
              "      border-color: transparent;\n",
              "      border-right-color: var(--fill-color);\n",
              "      border-bottom-color: var(--fill-color);\n",
              "    }\n",
              "    90% {\n",
              "      border-color: transparent;\n",
              "      border-bottom-color: var(--fill-color);\n",
              "    }\n",
              "  }\n",
              "</style>\n",
              "\n",
              "  <script>\n",
              "    async function quickchart(key) {\n",
              "      const quickchartButtonEl =\n",
              "        document.querySelector('#' + key + ' button');\n",
              "      quickchartButtonEl.disabled = true;  // To prevent multiple clicks.\n",
              "      quickchartButtonEl.classList.add('colab-df-spinner');\n",
              "      try {\n",
              "        const charts = await google.colab.kernel.invokeFunction(\n",
              "            'suggestCharts', [key], {});\n",
              "      } catch (error) {\n",
              "        console.error('Error during call to suggestCharts:', error);\n",
              "      }\n",
              "      quickchartButtonEl.classList.remove('colab-df-spinner');\n",
              "      quickchartButtonEl.classList.add('colab-df-quickchart-complete');\n",
              "    }\n",
              "    (() => {\n",
              "      let quickchartButtonEl =\n",
              "        document.querySelector('#df-96354743-8e1b-451d-87a3-cd15bfa8aee5 button');\n",
              "      quickchartButtonEl.style.display =\n",
              "        google.colab.kernel.accessAllowed ? 'block' : 'none';\n",
              "    })();\n",
              "  </script>\n",
              "</div>\n",
              "\n",
              "  <div id=\"id_d04601ff-f8c2-4b3e-bcf8-a1f55364cc37\">\n",
              "    <style>\n",
              "      .colab-df-generate {\n",
              "        background-color: #E8F0FE;\n",
              "        border: none;\n",
              "        border-radius: 50%;\n",
              "        cursor: pointer;\n",
              "        display: none;\n",
              "        fill: #1967D2;\n",
              "        height: 32px;\n",
              "        padding: 0 0 0 0;\n",
              "        width: 32px;\n",
              "      }\n",
              "\n",
              "      .colab-df-generate:hover {\n",
              "        background-color: #E2EBFA;\n",
              "        box-shadow: 0px 1px 2px rgba(60, 64, 67, 0.3), 0px 1px 3px 1px rgba(60, 64, 67, 0.15);\n",
              "        fill: #174EA6;\n",
              "      }\n",
              "\n",
              "      [theme=dark] .colab-df-generate {\n",
              "        background-color: #3B4455;\n",
              "        fill: #D2E3FC;\n",
              "      }\n",
              "\n",
              "      [theme=dark] .colab-df-generate:hover {\n",
              "        background-color: #434B5C;\n",
              "        box-shadow: 0px 1px 3px 1px rgba(0, 0, 0, 0.15);\n",
              "        filter: drop-shadow(0px 1px 2px rgba(0, 0, 0, 0.3));\n",
              "        fill: #FFFFFF;\n",
              "      }\n",
              "    </style>\n",
              "    <button class=\"colab-df-generate\" onclick=\"generateWithVariable('df')\"\n",
              "            title=\"Generate code using this dataframe.\"\n",
              "            style=\"display:none;\">\n",
              "\n",
              "  <svg xmlns=\"http://www.w3.org/2000/svg\" height=\"24px\"viewBox=\"0 0 24 24\"\n",
              "       width=\"24px\">\n",
              "    <path d=\"M7,19H8.4L18.45,9,17,7.55,7,17.6ZM5,21V16.75L18.45,3.32a2,2,0,0,1,2.83,0l1.4,1.43a1.91,1.91,0,0,1,.58,1.4,1.91,1.91,0,0,1-.58,1.4L9.25,21ZM18.45,9,17,7.55Zm-12,3A5.31,5.31,0,0,0,4.9,8.1,5.31,5.31,0,0,0,1,6.5,5.31,5.31,0,0,0,4.9,4.9,5.31,5.31,0,0,0,6.5,1,5.31,5.31,0,0,0,8.1,4.9,5.31,5.31,0,0,0,12,6.5,5.46,5.46,0,0,0,6.5,12Z\"/>\n",
              "  </svg>\n",
              "    </button>\n",
              "    <script>\n",
              "      (() => {\n",
              "      const buttonEl =\n",
              "        document.querySelector('#id_d04601ff-f8c2-4b3e-bcf8-a1f55364cc37 button.colab-df-generate');\n",
              "      buttonEl.style.display =\n",
              "        google.colab.kernel.accessAllowed ? 'block' : 'none';\n",
              "\n",
              "      buttonEl.onclick = () => {\n",
              "        google.colab.notebook.generateWithVariable('df');\n",
              "      }\n",
              "      })();\n",
              "    </script>\n",
              "  </div>\n",
              "\n",
              "    </div>\n",
              "  </div>\n"
            ],
            "application/vnd.google.colaboratory.intrinsic+json": {
              "type": "dataframe",
              "variable_name": "df",
              "summary": "{\n  \"name\": \"df\",\n  \"rows\": 5,\n  \"fields\": [\n    {\n      \"column\": \"A\",\n      \"properties\": {\n        \"dtype\": \"number\",\n        \"std\": 17,\n        \"min\": 1,\n        \"max\": 44,\n        \"num_unique_values\": 5,\n        \"samples\": [\n          4,\n          1,\n          5\n        ],\n        \"semantic_type\": \"\",\n        \"description\": \"\"\n      }\n    },\n    {\n      \"column\": \"B\",\n      \"properties\": {\n        \"dtype\": \"number\",\n        \"std\": 22,\n        \"min\": 2,\n        \"max\": 54,\n        \"num_unique_values\": 4,\n        \"samples\": [\n          2,\n          3,\n          5\n        ],\n        \"semantic_type\": \"\",\n        \"description\": \"\"\n      }\n    },\n    {\n      \"column\": \"C\",\n      \"properties\": {\n        \"dtype\": \"number\",\n        \"std\": 6,\n        \"min\": 3,\n        \"max\": 20,\n        \"num_unique_values\": 5,\n        \"samples\": [\n          16,\n          8,\n          7\n        ],\n        \"semantic_type\": \"\",\n        \"description\": \"\"\n      }\n    },\n    {\n      \"column\": \"D\",\n      \"properties\": {\n        \"dtype\": \"number\",\n        \"std\": 6,\n        \"min\": 2,\n        \"max\": 17,\n        \"num_unique_values\": 5,\n        \"samples\": [\n          3,\n          6,\n          17\n        ],\n        \"semantic_type\": \"\",\n        \"description\": \"\"\n      }\n    }\n  ]\n}"
            }
          },
          "metadata": {},
          "execution_count": 3
        }
      ]
    },
    {
      "cell_type": "markdown",
      "source": [
        "3. Create a scatter plot using Matplotlib."
      ],
      "metadata": {
        "id": "dr-8x4f5Nccq"
      }
    },
    {
      "cell_type": "code",
      "source": [
        "import matplotlib.pyplot as plt\n",
        "import numpy as np\n",
        "\n",
        "x = np.array([12, 45, 7, 32, 89, 54, 23, 67, 14, 91])\n",
        "y = np.array([99, 31, 72, 56, 19, 88, 43, 61, 35, 77])\n",
        "\n",
        "plt.scatter(x, y)\n",
        "plt.show()\n"
      ],
      "metadata": {
        "colab": {
          "base_uri": "https://localhost:8080/",
          "height": 430
        },
        "id": "Vx-jUxjwNg5q",
        "outputId": "7d562e54-3327-4efd-bd27-861c6a1635a1"
      },
      "execution_count": 4,
      "outputs": [
        {
          "output_type": "display_data",
          "data": {
            "text/plain": [
              "<Figure size 640x480 with 1 Axes>"
            ],
            "image/png": "[encoded data removed]"
          },
          "metadata": {}
        }
      ]
    },
    {
      "cell_type": "markdown",
      "source": [
        "4. How do you calculate the correlation matrix using Seaborn and visualize it with a heatmap."
      ],
      "metadata": {
        "id": "hy5VPslqNmMK"
      }
    },
    {
      "cell_type": "code",
      "source": [
        "# Import necessary modules\n",
        "import matplotlib.pyplot as plt\n",
        "import pandas as pd\n",
        "import seaborn as sns\n",
        "\n",
        "# Load dataset\n",
        "data = pd.read_csv(\"C:\\\\Users\\\\Nivi\\\\Desktop\\\\best.csv\")\n",
        "\n",
        "# Compute correlation matrix\n",
        "co_mtx = data.corr(numeric_only=True)\n",
        "\n",
        "# Print correlation matrix\n",
        "print(co_mtx)\n",
        "\n",
        "# Plot correlation heatmap\n",
        "sns.heatmap(co_mtx, cmap=\"YlGnBu\", annot=True)\n",
        "\n",
        "# Display heatmap\n",
        "plt.show()\n"
      ],
      "metadata": {
        "id": "TOmD_dspNrQC"
      },
      "execution_count": null,
      "outputs": []
    },
    {
      "cell_type": "markdown",
      "source": [
        "5. Generate a bar plot using Plotly."
      ],
      "metadata": {
        "id": "SEKQE42gN4LG"
      }
    },
    {
      "cell_type": "code",
      "execution_count": 5,
      "metadata": {
        "id": "mR_8qCbHnxbL",
        "colab": {
          "base_uri": "https://localhost:8080/",
          "height": 542
        },
        "outputId": "50369d40-8180-4e89-bdc2-4678d446090b"
      },
      "outputs": [
        {
          "output_type": "display_data",
          "data": {
            "text/html": [
              "<html>\n",
              "<head><meta charset=\"utf-8\" /></head>\n",
              "<body>\n",
              "    <div>            <script src=\"https://cdnjs.cloudflare.com/ajax/libs/mathjax/2.7.5/MathJax.js?config=TeX-AMS-MML_SVG\"></script><script type=\"text/javascript\">if (window.MathJax && window.MathJax.Hub && window.MathJax.Hub.Config) {window.MathJax.Hub.Config({SVG: {font: \"STIX-Web\"}});}</script>                <script type=\"text/javascript\">window.PlotlyConfig = {MathJaxConfig: 'local'};</script>\n",
              "        <script charset=\"utf-8\" src=\"https://cdn.plot.ly/plotly-2.35.2.min.js\"></script>                <div id=\"3fd6bc7a-9483-45fd-b869-eb750da23722\" class=\"plotly-graph-div\" style=\"height:525px; width:100%;\"></div>            <script type=\"text/javascript\">                                    window.PLOTLYENV=window.PLOTLYENV || {};                                    if (document.getElementById(\"3fd6bc7a-9483-45fd-b869-eb750da23722\")) {                    Plotly.newPlot(                        \"3fd6bc7a-9483-45fd-b869-eb750da23722\",                        [{\"alignmentgroup\":\"True\",\"hovertemplate\":\"index=%{x}\\u003cbr\\u003ey=%{y}\\u003cextra\\u003e\\u003c\\u002fextra\\u003e\",\"legendgroup\":\"\",\"marker\":{\"color\":\"#636efa\",\"pattern\":{\"shape\":\"\"}},\"name\":\"\",\"offsetgroup\":\"\",\"orientation\":\"v\",\"showlegend\":false,\"textposition\":\"auto\",\"x\":[0,1,2,3,4,5,6,7,8,9,10,11,12,13,14,15,16,17,18,19,20,21,22,23,24,25,26,27,28,29,30,31,32,33,34,35,36,37,38,39,40,41,42,43,44,45,46,47,48,49,50,51,52,53,54,55,56,57,58,59,60,61,62,63,64,65,66,67,68,69,70,71,72,73,74,75,76,77,78,79,80,81,82,83,84,85,86,87,88,89,90,91,92,93,94,95,96,97,98,99],\"xaxis\":\"x\",\"y\":[26,89,60,41,29,15,45,65,89,71,9,88,1,8,88,63,11,81,8,35,35,33,5,41,28,7,73,72,12,34,33,48,23,62,88,37,99,44,86,91,35,65,99,47,78,3,1,5,90,14,27,9,79,15,90,42,77,51,63,96,52,96,4,94,23,15,43,29,36,13,32,71,59,86,28,66,42,45,62,57,6,28,28,44,84,30,62,75,92,89,62,97,1,27,62,77,3,70,72,27],\"yaxis\":\"y\",\"type\":\"bar\"}],                        {\"template\":{\"data\":{\"histogram2dcontour\":[{\"type\":\"histogram2dcontour\",\"colorbar\":{\"outlinewidth\":0,\"ticks\":\"\"},\"colorscale\":[[0.0,\"#0d0887\"],[0.1111111111111111,\"#46039f\"],[0.2222222222222222,\"#7201a8\"],[0.3333333333333333,\"#9c179e\"],[0.4444444444444444,\"#bd3786\"],[0.5555555555555556,\"#d8576b\"],[0.6666666666666666,\"#ed7953\"],[0.7777777777777778,\"#fb9f3a\"],[0.8888888888888888,\"#fdca26\"],[1.0,\"#f0f921\"]]}],\"choropleth\":[{\"type\":\"choropleth\",\"colorbar\":{\"outlinewidth\":0,\"ticks\":\"\"}}],\"histogram2d\":[{\"type\":\"histogram2d\",\"colorbar\":{\"outlinewidth\":0,\"ticks\":\"\"},\"colorscale\":[[0.0,\"#0d0887\"],[0.1111111111111111,\"#46039f\"],[0.2222222222222222,\"#7201a8\"],[0.3333333333333333,\"#9c179e\"],[0.4444444444444444,\"#bd3786\"],[0.5555555555555556,\"#d8576b\"],[0.6666666666666666,\"#ed7953\"],[0.7777777777777778,\"#fb9f3a\"],[0.8888888888888888,\"#fdca26\"],[1.0,\"#f0f921\"]]}],\"heatmap\":[{\"type\":\"heatmap\",\"colorbar\":{\"outlinewidth\":0,\"ticks\":\"\"},\"colorscale\":[[0.0,\"#0d0887\"],[0.1111111111111111,\"#46039f\"],[0.2222222222222222,\"#7201a8\"],[0.3333333333333333,\"#9c179e\"],[0.4444444444444444,\"#bd3786\"],[0.5555555555555556,\"#d8576b\"],[0.6666666666666666,\"#ed7953\"],[0.7777777777777778,\"#fb9f3a\"],[0.8888888888888888,\"#fdca26\"],[1.0,\"#f0f921\"]]}],\"heatmapgl\":[{\"type\":\"heatmapgl\",\"colorbar\":{\"outlinewidth\":0,\"ticks\":\"\"},\"colorscale\":[[0.0,\"#0d0887\"],[0.1111111111111111,\"#46039f\"],[0.2222222222222222,\"#7201a8\"],[0.3333333333333333,\"#9c179e\"],[0.4444444444444444,\"#bd3786\"],[0.5555555555555556,\"#d8576b\"],[0.6666666666666666,\"#ed7953\"],[0.7777777777777778,\"#fb9f3a\"],[0.8888888888888888,\"#fdca26\"],[1.0,\"#f0f921\"]]}],\"contourcarpet\":[{\"type\":\"contourcarpet\",\"colorbar\":{\"outlinewidth\":0,\"ticks\":\"\"}}],\"contour\":[{\"type\":\"contour\",\"colorbar\":{\"outlinewidth\":0,\"ticks\":\"\"},\"colorscale\":[[0.0,\"#0d0887\"],[0.1111111111111111,\"#46039f\"],[0.2222222222222222,\"#7201a8\"],[0.3333333333333333,\"#9c179e\"],[0.4444444444444444,\"#bd3786\"],[0.5555555555555556,\"#d8576b\"],[0.6666666666666666,\"#ed7953\"],[0.7777777777777778,\"#fb9f3a\"],[0.8888888888888888,\"#fdca26\"],[1.0,\"#f0f921\"]]}],\"surface\":[{\"type\":\"surface\",\"colorbar\":{\"outlinewidth\":0,\"ticks\":\"\"},\"colorscale\":[[0.0,\"#0d0887\"],[0.1111111111111111,\"#46039f\"],[0.2222222222222222,\"#7201a8\"],[0.3333333333333333,\"#9c179e\"],[0.4444444444444444,\"#bd3786\"],[0.5555555555555556,\"#d8576b\"],[0.6666666666666666,\"#ed7953\"],[0.7777777777777778,\"#fb9f3a\"],[0.8888888888888888,\"#fdca26\"],[1.0,\"#f0f921\"]]}],\"mesh3d\":[{\"type\":\"mesh3d\",\"colorbar\":{\"outlinewidth\":0,\"ticks\":\"\"}}],\"scatter\":[{\"fillpattern\":{\"fillmode\":\"overlay\",\"size\":10,\"solidity\":0.2},\"type\":\"scatter\"}],\"parcoords\":[{\"type\":\"parcoords\",\"line\":{\"colorbar\":{\"outlinewidth\":0,\"ticks\":\"\"}}}],\"scatterpolargl\":[{\"type\":\"scatterpolargl\",\"marker\":{\"colorbar\":{\"outlinewidth\":0,\"ticks\":\"\"}}}],\"bar\":[{\"error_x\":{\"color\":\"#2a3f5f\"},\"error_y\":{\"color\":\"#2a3f5f\"},\"marker\":{\"line\":{\"color\":\"#E5ECF6\",\"width\":0.5},\"pattern\":{\"fillmode\":\"overlay\",\"size\":10,\"solidity\":0.2}},\"type\":\"bar\"}],\"scattergeo\":[{\"type\":\"scattergeo\",\"marker\":{\"colorbar\":{\"outlinewidth\":0,\"ticks\":\"\"}}}],\"scatterpolar\":[{\"type\":\"scatterpolar\",\"marker\":{\"colorbar\":{\"outlinewidth\":0,\"ticks\":\"\"}}}],\"histogram\":[{\"marker\":{\"pattern\":{\"fillmode\":\"overlay\",\"size\":10,\"solidity\":0.2}},\"type\":\"histogram\"}],\"scattergl\":[{\"type\":\"scattergl\",\"marker\":{\"colorbar\":{\"outlinewidth\":0,\"ticks\":\"\"}}}],\"scatter3d\":[{\"type\":\"scatter3d\",\"line\":{\"colorbar\":{\"outlinewidth\":0,\"ticks\":\"\"}},\"marker\":{\"colorbar\":{\"outlinewidth\":0,\"ticks\":\"\"}}}],\"scattermapbox\":[{\"type\":\"scattermapbox\",\"marker\":{\"colorbar\":{\"outlinewidth\":0,\"ticks\":\"\"}}}],\"scatterternary\":[{\"type\":\"scatterternary\",\"marker\":{\"colorbar\":{\"outlinewidth\":0,\"ticks\":\"\"}}}],\"scattercarpet\":[{\"type\":\"scattercarpet\",\"marker\":{\"colorbar\":{\"outlinewidth\":0,\"ticks\":\"\"}}}],\"carpet\":[{\"aaxis\":{\"endlinecolor\":\"#2a3f5f\",\"gridcolor\":\"white\",\"linecolor\":\"white\",\"minorgridcolor\":\"white\",\"startlinecolor\":\"#2a3f5f\"},\"baxis\":{\"endlinecolor\":\"#2a3f5f\",\"gridcolor\":\"white\",\"linecolor\":\"white\",\"minorgridcolor\":\"white\",\"startlinecolor\":\"#2a3f5f\"},\"type\":\"carpet\"}],\"table\":[{\"cells\":{\"fill\":{\"color\":\"#EBF0F8\"},\"line\":{\"color\":\"white\"}},\"header\":{\"fill\":{\"color\":\"#C8D4E3\"},\"line\":{\"color\":\"white\"}},\"type\":\"table\"}],\"barpolar\":[{\"marker\":{\"line\":{\"color\":\"#E5ECF6\",\"width\":0.5},\"pattern\":{\"fillmode\":\"overlay\",\"size\":10,\"solidity\":0.2}},\"type\":\"barpolar\"}],\"pie\":[{\"automargin\":true,\"type\":\"pie\"}]},\"layout\":{\"autotypenumbers\":\"strict\",\"colorway\":[\"#636efa\",\"#EF553B\",\"#00cc96\",\"#ab63fa\",\"#FFA15A\",\"#19d3f3\",\"#FF6692\",\"#B6E880\",\"#FF97FF\",\"#FECB52\"],\"font\":{\"color\":\"#2a3f5f\"},\"hovermode\":\"closest\",\"hoverlabel\":{\"align\":\"left\"},\"paper_bgcolor\":\"white\",\"plot_bgcolor\":\"#E5ECF6\",\"polar\":{\"bgcolor\":\"#E5ECF6\",\"angularaxis\":{\"gridcolor\":\"white\",\"linecolor\":\"white\",\"ticks\":\"\"},\"radialaxis\":{\"gridcolor\":\"white\",\"linecolor\":\"white\",\"ticks\":\"\"}},\"ternary\":{\"bgcolor\":\"#E5ECF6\",\"aaxis\":{\"gridcolor\":\"white\",\"linecolor\":\"white\",\"ticks\":\"\"},\"baxis\":{\"gridcolor\":\"white\",\"linecolor\":\"white\",\"ticks\":\"\"},\"caxis\":{\"gridcolor\":\"white\",\"linecolor\":\"white\",\"ticks\":\"\"}},\"coloraxis\":{\"colorbar\":{\"outlinewidth\":0,\"ticks\":\"\"}},\"colorscale\":{\"sequential\":[[0.0,\"#0d0887\"],[0.1111111111111111,\"#46039f\"],[0.2222222222222222,\"#7201a8\"],[0.3333333333333333,\"#9c179e\"],[0.4444444444444444,\"#bd3786\"],[0.5555555555555556,\"#d8576b\"],[0.6666666666666666,\"#ed7953\"],[0.7777777777777778,\"#fb9f3a\"],[0.8888888888888888,\"#fdca26\"],[1.0,\"#f0f921\"]],\"sequentialminus\":[[0.0,\"#0d0887\"],[0.1111111111111111,\"#46039f\"],[0.2222222222222222,\"#7201a8\"],[0.3333333333333333,\"#9c179e\"],[0.4444444444444444,\"#bd3786\"],[0.5555555555555556,\"#d8576b\"],[0.6666666666666666,\"#ed7953\"],[0.7777777777777778,\"#fb9f3a\"],[0.8888888888888888,\"#fdca26\"],[1.0,\"#f0f921\"]],\"diverging\":[[0,\"#8e0152\"],[0.1,\"#c51b7d\"],[0.2,\"#de77ae\"],[0.3,\"#f1b6da\"],[0.4,\"#fde0ef\"],[0.5,\"#f7f7f7\"],[0.6,\"#e6f5d0\"],[0.7,\"#b8e186\"],[0.8,\"#7fbc41\"],[0.9,\"#4d9221\"],[1,\"#276419\"]]},\"xaxis\":{\"gridcolor\":\"white\",\"linecolor\":\"white\",\"ticks\":\"\",\"title\":{\"standoff\":15},\"zerolinecolor\":\"white\",\"automargin\":true,\"zerolinewidth\":2},\"yaxis\":{\"gridcolor\":\"white\",\"linecolor\":\"white\",\"ticks\":\"\",\"title\":{\"standoff\":15},\"zerolinecolor\":\"white\",\"automargin\":true,\"zerolinewidth\":2},\"scene\":{\"xaxis\":{\"backgroundcolor\":\"#E5ECF6\",\"gridcolor\":\"white\",\"linecolor\":\"white\",\"showbackground\":true,\"ticks\":\"\",\"zerolinecolor\":\"white\",\"gridwidth\":2},\"yaxis\":{\"backgroundcolor\":\"#E5ECF6\",\"gridcolor\":\"white\",\"linecolor\":\"white\",\"showbackground\":true,\"ticks\":\"\",\"zerolinecolor\":\"white\",\"gridwidth\":2},\"zaxis\":{\"backgroundcolor\":\"#E5ECF6\",\"gridcolor\":\"white\",\"linecolor\":\"white\",\"showbackground\":true,\"ticks\":\"\",\"zerolinecolor\":\"white\",\"gridwidth\":2}},\"shapedefaults\":{\"line\":{\"color\":\"#2a3f5f\"}},\"annotationdefaults\":{\"arrowcolor\":\"#2a3f5f\",\"arrowhead\":0,\"arrowwidth\":1},\"geo\":{\"bgcolor\":\"white\",\"landcolor\":\"#E5ECF6\",\"subunitcolor\":\"white\",\"showland\":true,\"showlakes\":true,\"lakecolor\":\"white\"},\"title\":{\"x\":0.05},\"mapbox\":{\"style\":\"light\"}}},\"xaxis\":{\"anchor\":\"y\",\"domain\":[0.0,1.0],\"title\":{\"text\":\"index\"}},\"yaxis\":{\"anchor\":\"x\",\"domain\":[0.0,1.0],\"title\":{\"text\":\"y\"}},\"legend\":{\"tracegroupgap\":0},\"margin\":{\"t\":60},\"barmode\":\"relative\"},                        {\"responsive\": true}                    ).then(function(){\n",
              "                            \n",
              "var gd = document.getElementById('3fd6bc7a-9483-45fd-b869-eb750da23722');\n",
              "var x = new MutationObserver(function (mutations, observer) {{\n",
              "        var display = window.getComputedStyle(gd).display;\n",
              "        if (!display || display === 'none') {{\n",
              "            console.log([gd, 'removed!']);\n",
              "            Plotly.purge(gd);\n",
              "            observer.disconnect();\n",
              "        }}\n",
              "}});\n",
              "\n",
              "// Listen for the removal of the full notebook cells\n",
              "var notebookContainer = gd.closest('#notebook-container');\n",
              "if (notebookContainer) {{\n",
              "    x.observe(notebookContainer, {childList: true});\n",
              "}}\n",
              "\n",
              "// Listen for the clearing of the current output cell\n",
              "var outputEl = gd.closest('.output');\n",
              "if (outputEl) {{\n",
              "    x.observe(outputEl, {childList: true});\n",
              "}}\n",
              "\n",
              "                        })                };                            </script>        </div>\n",
              "</body>\n",
              "</html>"
            ]
          },
          "metadata": {}
        }
      ],
      "source": [
        "import plotly.express as px\n",
        "import numpy\n",
        "\n",
        "# creating random data through randomint\n",
        "# function of numpy.random\n",
        "np.random.seed(42)\n",
        "\n",
        "random_x= np.random.randint(1, 101, 100)\n",
        "random_y= np.random.randint(1, 101, 100)\n",
        "\n",
        "fig = px.bar(random_x, y = random_y)\n",
        "fig.show()"
      ]
    },
    {
      "cell_type": "markdown",
      "source": [
        "6. Create a DataFrame and add a new column based on an existing column."
      ],
      "metadata": {
        "id": "xFEbQzwGOTci"
      }
    },
    {
      "cell_type": "code",
      "source": [
        "# importing pandas as pd\n",
        "import pandas as pd\n",
        "\n",
        "# Creating the DataFrame\n",
        "df = pd.DataFrame({'Date':['10/2/2011', '11/2/2011', '12/2/2011', '13/2/2011'],\n",
        "                    'Event':['Music', 'Poetry', 'Theatre', 'Comedy'],\n",
        "                    'Cost':[10000, 5000, 15000, 2000]})\n",
        "\n",
        "# Print the dataframe\n",
        "print(df)\n"
      ],
      "metadata": {
        "colab": {
          "base_uri": "https://localhost:8080/"
        },
        "id": "Mg1DyLLXOZ5m",
        "outputId": "4a5aead7-76ff-4f5e-8cda-39241f8b290e"
      },
      "execution_count": 6,
      "outputs": [
        {
          "output_type": "stream",
          "name": "stdout",
          "text": [
            "        Date    Event   Cost\n",
            "0  10/2/2011    Music  10000\n",
            "1  11/2/2011   Poetry   5000\n",
            "2  12/2/2011  Theatre  15000\n",
            "3  13/2/2011   Comedy   2000\n"
          ]
        }
      ]
    },
    {
      "cell_type": "markdown",
      "source": [
        "7. Write a program to perform element-wise multiplication of two NumPy arrays."
      ],
      "metadata": {
        "id": "u0MIPIL4OdUy"
      }
    },
    {
      "cell_type": "code",
      "source": [
        "# Python program explaining\n",
        "# numpy.multiply() function\n",
        "\n",
        "import numpy as geek\n",
        "in_num1 = 4\n",
        "in_num2 = 6\n",
        "\n",
        "print (\"1st Input number : \", in_num1)\n",
        "print (\"2nd Input number : \", in_num2)\n",
        "\n",
        "out_num = geek.multiply(in_num1, in_num2)\n",
        "print (\"output number : \", out_num)\n"
      ],
      "metadata": {
        "colab": {
          "base_uri": "https://localhost:8080/"
        },
        "id": "HlLW6ZFwOl1F",
        "outputId": "48d275ca-56ac-4b91-ddb9-e0e6b8c0a95b"
      },
      "execution_count": 7,
      "outputs": [
        {
          "output_type": "stream",
          "name": "stdout",
          "text": [
            "1st Input number :  4\n",
            "2nd Input number :  6\n",
            "output number :  24\n"
          ]
        }
      ]
    },
    {
      "cell_type": "markdown",
      "source": [
        "8. Create a line plot with multiple lines using Matplotlib."
      ],
      "metadata": {
        "id": "r6ncAOloOnM2"
      }
    },
    {
      "cell_type": "code",
      "source": [
        "# importing package\n",
        "import matplotlib.pyplot as plt\n",
        "\n",
        "# create data\n",
        "x = [10,20,30,40,50]\n",
        "y = [30,30,30,30,30]\n",
        "\n",
        "# plot line\n",
        "plt.plot(x, y)\n",
        "plt.show()\n"
      ],
      "metadata": {
        "colab": {
          "base_uri": "https://localhost:8080/",
          "height": 430
        },
        "id": "peFxIdhfOtJk",
        "outputId": "71218bf1-5927-43b6-a30c-def34c83f420"
      },
      "execution_count": 8,
      "outputs": [
        {
          "output_type": "display_data",
          "data": {
            "text/plain": [
              "<Figure size 640x480 with 1 Axes>"
            ],
            "image/png": "[encoded data removed]"
          },
          "metadata": {}
        }
      ]
    },
    {
      "cell_type": "markdown",
      "source": [
        "9. Generate a Pandas DataFrame and filter rows where a column value is greater than a threshold."
      ],
      "metadata": {
        "id": "4evJ7SR7Oxg6"
      }
    },
    {
      "cell_type": "code",
      "source": [
        "import pandas as pd\n",
        "data = {'Name': ['Alice', 'Bob', 'Charlie'],\n",
        "        'Age': [25, 32,45],\n",
        "        'Score': [85, 90, 78]}\n",
        "df = pd.DataFrame(data)\n",
        "\n",
        "# Filter rows where Age is greater than 30\n",
        "filtered_df = df[df['Age'] > 30]\n",
        "display(filtered_df)\n"
      ],
      "metadata": {
        "colab": {
          "base_uri": "https://localhost:8080/",
          "height": 125
        },
        "id": "ulds9dmsO2s5",
        "outputId": "66d08c13-fa62-42d1-fd2b-9584161b4772"
      },
      "execution_count": 9,
      "outputs": [
        {
          "output_type": "display_data",
          "data": {
            "text/plain": [
              "      Name  Age  Score\n",
              "1      Bob   32     90\n",
              "2  Charlie   45     78"
            ],
            "text/html": [
              "\n",
              "  <div id=\"df-080d33b7-2bf4-4689-97b8-599f9ef93ecb\" class=\"colab-df-container\">\n",
              "    <div>\n",
              "<style scoped>\n",
              "    .dataframe tbody tr th:only-of-type {\n",
              "        vertical-align: middle;\n",
              "    }\n",
              "\n",
              "    .dataframe tbody tr th {\n",
              "        vertical-align: top;\n",
              "    }\n",
              "\n",
              "    .dataframe thead th {\n",
              "        text-align: right;\n",
              "    }\n",
              "</style>\n",
              "<table border=\"1\" class=\"dataframe\">\n",
              "  <thead>\n",
              "    <tr style=\"text-align: right;\">\n",
              "      <th></th>\n",
              "      <th>Name</th>\n",
              "      <th>Age</th>\n",
              "      <th>Score</th>\n",
              "    </tr>\n",
              "  </thead>\n",
              "  <tbody>\n",
              "    <tr>\n",
              "      <th>1</th>\n",
              "      <td>Bob</td>\n",
              "      <td>32</td>\n",
              "      <td>90</td>\n",
              "    </tr>\n",
              "    <tr>\n",
              "      <th>2</th>\n",
              "      <td>Charlie</td>\n",
              "      <td>45</td>\n",
              "      <td>78</td>\n",
              "    </tr>\n",
              "  </tbody>\n",
              "</table>\n",
              "</div>\n",
              "    <div class=\"colab-df-buttons\">\n",
              "\n",
              "  <div class=\"colab-df-container\">\n",
              "    <button class=\"colab-df-convert\" onclick=\"convertToInteractive('df-080d33b7-2bf4-4689-97b8-599f9ef93ecb')\"\n",
              "            title=\"Convert this dataframe to an interactive table.\"\n",
              "            style=\"display:none;\">\n",
              "\n",
              "  <svg xmlns=\"http://www.w3.org/2000/svg\" height=\"24px\" viewBox=\"0 -960 960 960\">\n",
              "    <path d=\"M120-120v-720h720v720H120Zm60-500h600v-160H180v160Zm220 220h160v-160H400v160Zm0 220h160v-160H400v160ZM180-400h160v-160H180v160Zm440 0h160v-160H620v160ZM180-180h160v-160H180v160Zm440 0h160v-160H620v160Z\"/>\n",
              "  </svg>\n",
              "    </button>\n",
              "\n",
              "  <style>\n",
              "    .colab-df-container {\n",
              "      display:flex;\n",
              "      gap: 12px;\n",
              "    }\n",
              "\n",
              "    .colab-df-convert {\n",
              "      background-color: #E8F0FE;\n",
              "      border: none;\n",
              "      border-radius: 50%;\n",
              "      cursor: pointer;\n",
              "      display: none;\n",
              "      fill: #1967D2;\n",
              "      height: 32px;\n",
              "      padding: 0 0 0 0;\n",
              "      width: 32px;\n",
              "    }\n",
              "\n",
              "    .colab-df-convert:hover {\n",
              "      background-color: #E2EBFA;\n",
              "      box-shadow: 0px 1px 2px rgba(60, 64, 67, 0.3), 0px 1px 3px 1px rgba(60, 64, 67, 0.15);\n",
              "      fill: #174EA6;\n",
              "    }\n",
              "\n",
              "    .colab-df-buttons div {\n",
              "      margin-bottom: 4px;\n",
              "    }\n",
              "\n",
              "    [theme=dark] .colab-df-convert {\n",
              "      background-color: #3B4455;\n",
              "      fill: #D2E3FC;\n",
              "    }\n",
              "\n",
              "    [theme=dark] .colab-df-convert:hover {\n",
              "      background-color: #434B5C;\n",
              "      box-shadow: 0px 1px 3px 1px rgba(0, 0, 0, 0.15);\n",
              "      filter: drop-shadow(0px 1px 2px rgba(0, 0, 0, 0.3));\n",
              "      fill: #FFFFFF;\n",
              "    }\n",
              "  </style>\n",
              "\n",
              "    <script>\n",
              "      const buttonEl =\n",
              "        document.querySelector('#df-080d33b7-2bf4-4689-97b8-599f9ef93ecb button.colab-df-convert');\n",
              "      buttonEl.style.display =\n",
              "        google.colab.kernel.accessAllowed ? 'block' : 'none';\n",
              "\n",
              "      async function convertToInteractive(key) {\n",
              "        const element = document.querySelector('#df-080d33b7-2bf4-4689-97b8-599f9ef93ecb');\n",
              "        const dataTable =\n",
              "          await google.colab.kernel.invokeFunction('convertToInteractive',\n",
              "                                                    [key], {});\n",
              "        if (!dataTable) return;\n",
              "\n",
              "        const docLinkHtml = 'Like what you see? Visit the ' +\n",
              "          '<a target=\"_blank\" href=https://colab.research.google.com/notebooks/data_table.ipynb>data table notebook</a>'\n",
              "          + ' to learn more about interactive tables.';\n",
              "        element.innerHTML = '';\n",
              "        dataTable['output_type'] = 'display_data';\n",
              "        await google.colab.output.renderOutput(dataTable, element);\n",
              "        const docLink = document.createElement('div');\n",
              "        docLink.innerHTML = docLinkHtml;\n",
              "        element.appendChild(docLink);\n",
              "      }\n",
              "    </script>\n",
              "  </div>\n",
              "\n",
              "\n",
              "<div id=\"df-600f2447-a1f3-4fe9-ab68-aaef601ac354\">\n",
              "  <button class=\"colab-df-quickchart\" onclick=\"quickchart('df-600f2447-a1f3-4fe9-ab68-aaef601ac354')\"\n",
              "            title=\"Suggest charts\"\n",
              "            style=\"display:none;\">\n",
              "\n",
              "<svg xmlns=\"http://www.w3.org/2000/svg\" height=\"24px\"viewBox=\"0 0 24 24\"\n",
              "     width=\"24px\">\n",
              "    <g>\n",
              "        <path d=\"M19 3H5c-1.1 0-2 .9-2 2v14c0 1.1.9 2 2 2h14c1.1 0 2-.9 2-2V5c0-1.1-.9-2-2-2zM9 17H7v-7h2v7zm4 0h-2V7h2v10zm4 0h-2v-4h2v4z\"/>\n",
              "    </g>\n",
              "</svg>\n",
              "  </button>\n",
              "\n",
              "<style>\n",
              "  .colab-df-quickchart {\n",
              "      --bg-color: #E8F0FE;\n",
              "      --fill-color: #1967D2;\n",
              "      --hover-bg-color: #E2EBFA;\n",
              "      --hover-fill-color: #174EA6;\n",
              "      --disabled-fill-color: #AAA;\n",
              "      --disabled-bg-color: #DDD;\n",
              "  }\n",
              "\n",
              "  [theme=dark] .colab-df-quickchart {\n",
              "      --bg-color: #3B4455;\n",
              "      --fill-color: #D2E3FC;\n",
              "      --hover-bg-color: #434B5C;\n",
              "      --hover-fill-color: #FFFFFF;\n",
              "      --disabled-bg-color: #3B4455;\n",
              "      --disabled-fill-color: #666;\n",
              "  }\n",
              "\n",
              "  .colab-df-quickchart {\n",
              "    background-color: var(--bg-color);\n",
              "    border: none;\n",
              "    border-radius: 50%;\n",
              "    cursor: pointer;\n",
              "    display: none;\n",
              "    fill: var(--fill-color);\n",
              "    height: 32px;\n",
              "    padding: 0;\n",
              "    width: 32px;\n",
              "  }\n",
              "\n",
              "  .colab-df-quickchart:hover {\n",
              "    background-color: var(--hover-bg-color);\n",
              "    box-shadow: 0 1px 2px rgba(60, 64, 67, 0.3), 0 1px 3px 1px rgba(60, 64, 67, 0.15);\n",
              "    fill: var(--button-hover-fill-color);\n",
              "  }\n",
              "\n",
              "  .colab-df-quickchart-complete:disabled,\n",
              "  .colab-df-quickchart-complete:disabled:hover {\n",
              "    background-color: var(--disabled-bg-color);\n",
              "    fill: var(--disabled-fill-color);\n",
              "    box-shadow: none;\n",
              "  }\n",
              "\n",
              "  .colab-df-spinner {\n",
              "    border: 2px solid var(--fill-color);\n",
              "    border-color: transparent;\n",
              "    border-bottom-color: var(--fill-color);\n",
              "    animation:\n",
              "      spin 1s steps(1) infinite;\n",
              "  }\n",
              "\n",
              "  @keyframes spin {\n",
              "    0% {\n",
              "      border-color: transparent;\n",
              "      border-bottom-color: var(--fill-color);\n",
              "      border-left-color: var(--fill-color);\n",
              "    }\n",
              "    20% {\n",
              "      border-color: transparent;\n",
              "      border-left-color: var(--fill-color);\n",
              "      border-top-color: var(--fill-color);\n",
              "    }\n",
              "    30% {\n",
              "      border-color: transparent;\n",
              "      border-left-color: var(--fill-color);\n",
              "      border-top-color: var(--fill-color);\n",
              "      border-right-color: var(--fill-color);\n",
              "    }\n",
              "    40% {\n",
              "      border-color: transparent;\n",
              "      border-right-color: var(--fill-color);\n",
              "      border-top-color: var(--fill-color);\n",
              "    }\n",
              "    60% {\n",
              "      border-color: transparent;\n",
              "      border-right-color: var(--fill-color);\n",
              "    }\n",
              "    80% {\n",
              "      border-color: transparent;\n",
              "      border-right-color: var(--fill-color);\n",
              "      border-bottom-color: var(--fill-color);\n",
              "    }\n",
              "    90% {\n",
              "      border-color: transparent;\n",
              "      border-bottom-color: var(--fill-color);\n",
              "    }\n",
              "  }\n",
              "</style>\n",
              "\n",
              "  <script>\n",
              "    async function quickchart(key) {\n",
              "      const quickchartButtonEl =\n",
              "        document.querySelector('#' + key + ' button');\n",
              "      quickchartButtonEl.disabled = true;  // To prevent multiple clicks.\n",
              "      quickchartButtonEl.classList.add('colab-df-spinner');\n",
              "      try {\n",
              "        const charts = await google.colab.kernel.invokeFunction(\n",
              "            'suggestCharts', [key], {});\n",
              "      } catch (error) {\n",
              "        console.error('Error during call to suggestCharts:', error);\n",
              "      }\n",
              "      quickchartButtonEl.classList.remove('colab-df-spinner');\n",
              "      quickchartButtonEl.classList.add('colab-df-quickchart-complete');\n",
              "    }\n",
              "    (() => {\n",
              "      let quickchartButtonEl =\n",
              "        document.querySelector('#df-600f2447-a1f3-4fe9-ab68-aaef601ac354 button');\n",
              "      quickchartButtonEl.style.display =\n",
              "        google.colab.kernel.accessAllowed ? 'block' : 'none';\n",
              "    })();\n",
              "  </script>\n",
              "</div>\n",
              "\n",
              "  <div id=\"id_02fce790-98e6-4219-a125-dddcb5197562\">\n",
              "    <style>\n",
              "      .colab-df-generate {\n",
              "        background-color: #E8F0FE;\n",
              "        border: none;\n",
              "        border-radius: 50%;\n",
              "        cursor: pointer;\n",
              "        display: none;\n",
              "        fill: #1967D2;\n",
              "        height: 32px;\n",
              "        padding: 0 0 0 0;\n",
              "        width: 32px;\n",
              "      }\n",
              "\n",
              "      .colab-df-generate:hover {\n",
              "        background-color: #E2EBFA;\n",
              "        box-shadow: 0px 1px 2px rgba(60, 64, 67, 0.3), 0px 1px 3px 1px rgba(60, 64, 67, 0.15);\n",
              "        fill: #174EA6;\n",
              "      }\n",
              "\n",
              "      [theme=dark] .colab-df-generate {\n",
              "        background-color: #3B4455;\n",
              "        fill: #D2E3FC;\n",
              "      }\n",
              "\n",
              "      [theme=dark] .colab-df-generate:hover {\n",
              "        background-color: #434B5C;\n",
              "        box-shadow: 0px 1px 3px 1px rgba(0, 0, 0, 0.15);\n",
              "        filter: drop-shadow(0px 1px 2px rgba(0, 0, 0, 0.3));\n",
              "        fill: #FFFFFF;\n",
              "      }\n",
              "    </style>\n",
              "    <button class=\"colab-df-generate\" onclick=\"generateWithVariable('filtered_df')\"\n",
              "            title=\"Generate code using this dataframe.\"\n",
              "            style=\"display:none;\">\n",
              "\n",
              "  <svg xmlns=\"http://www.w3.org/2000/svg\" height=\"24px\"viewBox=\"0 0 24 24\"\n",
              "       width=\"24px\">\n",
              "    <path d=\"M7,19H8.4L18.45,9,17,7.55,7,17.6ZM5,21V16.75L18.45,3.32a2,2,0,0,1,2.83,0l1.4,1.43a1.91,1.91,0,0,1,.58,1.4,1.91,1.91,0,0,1-.58,1.4L9.25,21ZM18.45,9,17,7.55Zm-12,3A5.31,5.31,0,0,0,4.9,8.1,5.31,5.31,0,0,0,1,6.5,5.31,5.31,0,0,0,4.9,4.9,5.31,5.31,0,0,0,6.5,1,5.31,5.31,0,0,0,8.1,4.9,5.31,5.31,0,0,0,12,6.5,5.46,5.46,0,0,0,6.5,12Z\"/>\n",
              "  </svg>\n",
              "    </button>\n",
              "    <script>\n",
              "      (() => {\n",
              "      const buttonEl =\n",
              "        document.querySelector('#id_02fce790-98e6-4219-a125-dddcb5197562 button.colab-df-generate');\n",
              "      buttonEl.style.display =\n",
              "        google.colab.kernel.accessAllowed ? 'block' : 'none';\n",
              "\n",
              "      buttonEl.onclick = () => {\n",
              "        google.colab.notebook.generateWithVariable('filtered_df');\n",
              "      }\n",
              "      })();\n",
              "    </script>\n",
              "  </div>\n",
              "\n",
              "    </div>\n",
              "  </div>\n"
            ],
            "application/vnd.google.colaboratory.intrinsic+json": {
              "type": "dataframe",
              "variable_name": "filtered_df",
              "summary": "{\n  \"name\": \"filtered_df\",\n  \"rows\": 2,\n  \"fields\": [\n    {\n      \"column\": \"Name\",\n      \"properties\": {\n        \"dtype\": \"string\",\n        \"num_unique_values\": 2,\n        \"samples\": [\n          \"Charlie\",\n          \"Bob\"\n        ],\n        \"semantic_type\": \"\",\n        \"description\": \"\"\n      }\n    },\n    {\n      \"column\": \"Age\",\n      \"properties\": {\n        \"dtype\": \"number\",\n        \"std\": 9,\n        \"min\": 32,\n        \"max\": 45,\n        \"num_unique_values\": 2,\n        \"samples\": [\n          45,\n          32\n        ],\n        \"semantic_type\": \"\",\n        \"description\": \"\"\n      }\n    },\n    {\n      \"column\": \"Score\",\n      \"properties\": {\n        \"dtype\": \"number\",\n        \"std\": 8,\n        \"min\": 78,\n        \"max\": 90,\n        \"num_unique_values\": 2,\n        \"samples\": [\n          78,\n          90\n        ],\n        \"semantic_type\": \"\",\n        \"description\": \"\"\n      }\n    }\n  ]\n}"
            }
          },
          "metadata": {}
        }
      ]
    },
    {
      "cell_type": "markdown",
      "source": [
        "10. Create a histogram using Seaborn to visualize a distribution."
      ],
      "metadata": {
        "id": "n9gW5OkUPGOc"
      }
    },
    {
      "cell_type": "code",
      "source": [
        "# Import necessary libraries\n",
        "import seaborn as sns\n",
        "import numpy as np\n",
        "import pandas as pd\n",
        "\n",
        "# Generating dataset of random numbers\n",
        "np.random.seed(1)\n",
        "num_var = np.random.randn(1000)\n",
        "num_var = pd.Series(num_var, name = \"Numerical Variable\")\n",
        "\n",
        "# Plot histogram\n",
        "sns.histplot(data = num_var, kde = True)\n"
      ],
      "metadata": {
        "colab": {
          "base_uri": "https://localhost:8080/",
          "height": 466
        },
        "id": "z6q1MThmPJ0X",
        "outputId": "1eee8023-3c26-407f-a943-d4597d8b70f1"
      },
      "execution_count": 10,
      "outputs": [
        {
          "output_type": "execute_result",
          "data": {
            "text/plain": [
              "<Axes: xlabel='Numerical Variable', ylabel='Count'>"
            ]
          },
          "metadata": {},
          "execution_count": 10
        },
        {
          "output_type": "display_data",
          "data": {
            "text/plain": [
              "<Figure size 640x480 with 1 Axes>"
            ],
            "image/png": "[encoded data removed]"
          },
          "metadata": {}
        }
      ]
    },
    {
      "cell_type": "markdown",
      "source": [
        "11. Perform matrix multiplication using NumPy."
      ],
      "metadata": {
        "id": "d7O3D0asPO58"
      }
    },
    {
      "cell_type": "code",
      "source": [
        "# importing the module\n",
        "import numpy as np\n",
        "\n",
        "# creating two matrices\n",
        "p = [[1, 2], [2, 3]]\n",
        "q = [[4, 5], [6, 7]]\n",
        "print(\"Matrix p :\")\n",
        "print(p)\n",
        "print(\"Matrix q :\")\n",
        "print(q)\n",
        "\n",
        "# computing product\n",
        "result = np.dot(p, q)\n",
        "\n",
        "# printing the result\n",
        "print(\"The matrix multiplication is :\")\n",
        "print(result)\n"
      ],
      "metadata": {
        "colab": {
          "base_uri": "https://localhost:8080/"
        },
        "id": "I8Oge88YPT8X",
        "outputId": "3002e100-46a7-4000-e4aa-d0932ff89751"
      },
      "execution_count": 11,
      "outputs": [
        {
          "output_type": "stream",
          "name": "stdout",
          "text": [
            "Matrix p :\n",
            "[[1, 2], [2, 3]]\n",
            "Matrix q :\n",
            "[[4, 5], [6, 7]]\n",
            "The matrix multiplication is :\n",
            "[[16 19]\n",
            " [26 31]]\n"
          ]
        }
      ]
    },
    {
      "cell_type": "markdown",
      "source": [
        "12. Use Pandas to load a CSV file and display its first 5 rows."
      ],
      "metadata": {
        "id": "Kf3s0XaTPW-x"
      }
    },
    {
      "cell_type": "code",
      "source": [
        "import pandas as pd\n",
        "pd.set_option('display.max_rows', 50)\n",
        "pd.set_option('display.max_columns', 50)\n",
        "diamonds = pd.read_csv('https://raw.githubusercontent.com/mwaskom/seaborn-data/master/diamonds.csv')\n",
        "print(\"First 5 rows:\")\n",
        "print(diamonds.head())\n"
      ],
      "metadata": {
        "colab": {
          "base_uri": "https://localhost:8080/"
        },
        "id": "lPaQuupyPbxf",
        "outputId": "ceeb1841-561a-42a5-a892-5f898e2fb72f"
      },
      "execution_count": 12,
      "outputs": [
        {
          "output_type": "stream",
          "name": "stdout",
          "text": [
            "First 5 rows:\n",
            "   carat      cut color clarity  depth  table  price     x     y     z\n",
            "0   0.23    Ideal     E     SI2   61.5   55.0    326  3.95  3.98  2.43\n",
            "1   0.21  Premium     E     SI1   59.8   61.0    326  3.89  3.84  2.31\n",
            "2   0.23     Good     E     VS1   56.9   65.0    327  4.05  4.07  2.31\n",
            "3   0.29  Premium     I     VS2   62.4   58.0    334  4.20  4.23  2.63\n",
            "4   0.31     Good     J     SI2   63.3   58.0    335  4.34  4.35  2.75\n"
          ]
        }
      ]
    },
    {
      "cell_type": "markdown",
      "source": [
        "13. Create a 3D scatter plot using Plotly."
      ],
      "metadata": {
        "id": "VWvilcEYPoMy"
      }
    },
    {
      "cell_type": "code",
      "source": [
        "import plotly.express as px\n",
        "\n",
        "df = px.data.iris()\n",
        "\n",
        "fig = px.scatter_3d(df, x = 'sepal_width',\n",
        "\t\t\t\t\ty = 'sepal_length',\n",
        "\t\t\t\t\tz = 'petal_width',\n",
        "\t\t\t\t\tcolor = 'species')\n",
        "\n",
        "fig.show()\n"
      ],
      "metadata": {
        "colab": {
          "base_uri": "https://localhost:8080/",
          "height": 542
        },
        "id": "9MjzzsImPtB2",
        "outputId": "d47f1e2d-7d98-49b9-fb5a-ae027ad22cfe"
      },
      "execution_count": 13,
      "outputs": [
        {
          "output_type": "display_data",
          "data": {
            "text/html": [
              "<html>\n",
              "<head><meta charset=\"utf-8\" /></head>\n",
              "<body>\n",
              "    <div>            <script src=\"https://cdnjs.cloudflare.com/ajax/libs/mathjax/2.7.5/MathJax.js?config=TeX-AMS-MML_SVG\"></script><script type=\"text/javascript\">if (window.MathJax && window.MathJax.Hub && window.MathJax.Hub.Config) {window.MathJax.Hub.Config({SVG: {font: \"STIX-Web\"}});}</script>                <script type=\"text/javascript\">window.PlotlyConfig = {MathJaxConfig: 'local'};</script>\n",
              "        <script charset=\"utf-8\" src=\"https://cdn.plot.ly/plotly-2.35.2.min.js\"></script>                <div id=\"b880f8fd-18a5-437d-baf1-9d24e7b6e08f\" class=\"plotly-graph-div\" style=\"height:525px; width:100%;\"></div>            <script type=\"text/javascript\">                                    window.PLOTLYENV=window.PLOTLYENV || {};                                    if (document.getElementById(\"b880f8fd-18a5-437d-baf1-9d24e7b6e08f\")) {                    Plotly.newPlot(                        \"b880f8fd-18a5-437d-baf1-9d24e7b6e08f\",                        [{\"hovertemplate\":\"species=setosa\\u003cbr\\u003esepal_width=%{x}\\u003cbr\\u003esepal_length=%{y}\\u003cbr\\u003epetal_width=%{z}\\u003cextra\\u003e\\u003c\\u002fextra\\u003e\",\"legendgroup\":\"setosa\",\"marker\":{\"color\":\"#636efa\",\"symbol\":\"circle\"},\"mode\":\"markers\",\"name\":\"setosa\",\"scene\":\"scene\",\"showlegend\":true,\"x\":[3.5,3.0,3.2,3.1,3.6,3.9,3.4,3.4,2.9,3.1,3.7,3.4,3.0,3.0,4.0,4.4,3.9,3.5,3.8,3.8,3.4,3.7,3.6,3.3,3.4,3.0,3.4,3.5,3.4,3.2,3.1,3.4,4.1,4.2,3.1,3.2,3.5,3.1,3.0,3.4,3.5,2.3,3.2,3.5,3.8,3.0,3.8,3.2,3.7,3.3],\"y\":[5.1,4.9,4.7,4.6,5.0,5.4,4.6,5.0,4.4,4.9,5.4,4.8,4.8,4.3,5.8,5.7,5.4,5.1,5.7,5.1,5.4,5.1,4.6,5.1,4.8,5.0,5.0,5.2,5.2,4.7,4.8,5.4,5.2,5.5,4.9,5.0,5.5,4.9,4.4,5.1,5.0,4.5,4.4,5.0,5.1,4.8,5.1,4.6,5.3,5.0],\"z\":[0.2,0.2,0.2,0.2,0.2,0.4,0.3,0.2,0.2,0.1,0.2,0.2,0.1,0.1,0.2,0.4,0.4,0.3,0.3,0.3,0.2,0.4,0.2,0.5,0.2,0.2,0.4,0.2,0.2,0.2,0.2,0.4,0.1,0.2,0.1,0.2,0.2,0.1,0.2,0.2,0.3,0.3,0.2,0.6,0.4,0.3,0.2,0.2,0.2,0.2],\"type\":\"scatter3d\"},{\"hovertemplate\":\"species=versicolor\\u003cbr\\u003esepal_width=%{x}\\u003cbr\\u003esepal_length=%{y}\\u003cbr\\u003epetal_width=%{z}\\u003cextra\\u003e\\u003c\\u002fextra\\u003e\",\"legendgroup\":\"versicolor\",\"marker\":{\"color\":\"#EF553B\",\"symbol\":\"circle\"},\"mode\":\"markers\",\"name\":\"versicolor\",\"scene\":\"scene\",\"showlegend\":true,\"x\":[3.2,3.2,3.1,2.3,2.8,2.8,3.3,2.4,2.9,2.7,2.0,3.0,2.2,2.9,2.9,3.1,3.0,2.7,2.2,2.5,3.2,2.8,2.5,2.8,2.9,3.0,2.8,3.0,2.9,2.6,2.4,2.4,2.7,2.7,3.0,3.4,3.1,2.3,3.0,2.5,2.6,3.0,2.6,2.3,2.7,3.0,2.9,2.9,2.5,2.8],\"y\":[7.0,6.4,6.9,5.5,6.5,5.7,6.3,4.9,6.6,5.2,5.0,5.9,6.0,6.1,5.6,6.7,5.6,5.8,6.2,5.6,5.9,6.1,6.3,6.1,6.4,6.6,6.8,6.7,6.0,5.7,5.5,5.5,5.8,6.0,5.4,6.0,6.7,6.3,5.6,5.5,5.5,6.1,5.8,5.0,5.6,5.7,5.7,6.2,5.1,5.7],\"z\":[1.4,1.5,1.5,1.3,1.5,1.3,1.6,1.0,1.3,1.4,1.0,1.5,1.0,1.4,1.3,1.4,1.5,1.0,1.5,1.1,1.8,1.3,1.5,1.2,1.3,1.4,1.4,1.7,1.5,1.0,1.1,1.0,1.2,1.6,1.5,1.6,1.5,1.3,1.3,1.3,1.2,1.4,1.2,1.0,1.3,1.2,1.3,1.3,1.1,1.3],\"type\":\"scatter3d\"},{\"hovertemplate\":\"species=virginica\\u003cbr\\u003esepal_width=%{x}\\u003cbr\\u003esepal_length=%{y}\\u003cbr\\u003epetal_width=%{z}\\u003cextra\\u003e\\u003c\\u002fextra\\u003e\",\"legendgroup\":\"virginica\",\"marker\":{\"color\":\"#00cc96\",\"symbol\":\"circle\"},\"mode\":\"markers\",\"name\":\"virginica\",\"scene\":\"scene\",\"showlegend\":true,\"x\":[3.3,2.7,3.0,2.9,3.0,3.0,2.5,2.9,2.5,3.6,3.2,2.7,3.0,2.5,2.8,3.2,3.0,3.8,2.6,2.2,3.2,2.8,2.8,2.7,3.3,3.2,2.8,3.0,2.8,3.0,2.8,3.8,2.8,2.8,2.6,3.0,3.4,3.1,3.0,3.1,3.1,3.1,2.7,3.2,3.3,3.0,2.5,3.0,3.4,3.0],\"y\":[6.3,5.8,7.1,6.3,6.5,7.6,4.9,7.3,6.7,7.2,6.5,6.4,6.8,5.7,5.8,6.4,6.5,7.7,7.7,6.0,6.9,5.6,7.7,6.3,6.7,7.2,6.2,6.1,6.4,7.2,7.4,7.9,6.4,6.3,6.1,7.7,6.3,6.4,6.0,6.9,6.7,6.9,5.8,6.8,6.7,6.7,6.3,6.5,6.2,5.9],\"z\":[2.5,1.9,2.1,1.8,2.2,2.1,1.7,1.8,1.8,2.5,2.0,1.9,2.1,2.0,2.4,2.3,1.8,2.2,2.3,1.5,2.3,2.0,2.0,1.8,2.1,1.8,1.8,1.8,2.1,1.6,1.9,2.0,2.2,1.5,1.4,2.3,2.4,1.8,1.8,2.1,2.4,2.3,1.9,2.3,2.5,2.3,1.9,2.0,2.3,1.8],\"type\":\"scatter3d\"}],                        {\"template\":{\"data\":{\"histogram2dcontour\":[{\"type\":\"histogram2dcontour\",\"colorbar\":{\"outlinewidth\":0,\"ticks\":\"\"},\"colorscale\":[[0.0,\"#0d0887\"],[0.1111111111111111,\"#46039f\"],[0.2222222222222222,\"#7201a8\"],[0.3333333333333333,\"#9c179e\"],[0.4444444444444444,\"#bd3786\"],[0.5555555555555556,\"#d8576b\"],[0.6666666666666666,\"#ed7953\"],[0.7777777777777778,\"#fb9f3a\"],[0.8888888888888888,\"#fdca26\"],[1.0,\"#f0f921\"]]}],\"choropleth\":[{\"type\":\"choropleth\",\"colorbar\":{\"outlinewidth\":0,\"ticks\":\"\"}}],\"histogram2d\":[{\"type\":\"histogram2d\",\"colorbar\":{\"outlinewidth\":0,\"ticks\":\"\"},\"colorscale\":[[0.0,\"#0d0887\"],[0.1111111111111111,\"#46039f\"],[0.2222222222222222,\"#7201a8\"],[0.3333333333333333,\"#9c179e\"],[0.4444444444444444,\"#bd3786\"],[0.5555555555555556,\"#d8576b\"],[0.6666666666666666,\"#ed7953\"],[0.7777777777777778,\"#fb9f3a\"],[0.8888888888888888,\"#fdca26\"],[1.0,\"#f0f921\"]]}],\"heatmap\":[{\"type\":\"heatmap\",\"colorbar\":{\"outlinewidth\":0,\"ticks\":\"\"},\"colorscale\":[[0.0,\"#0d0887\"],[0.1111111111111111,\"#46039f\"],[0.2222222222222222,\"#7201a8\"],[0.3333333333333333,\"#9c179e\"],[0.4444444444444444,\"#bd3786\"],[0.5555555555555556,\"#d8576b\"],[0.6666666666666666,\"#ed7953\"],[0.7777777777777778,\"#fb9f3a\"],[0.8888888888888888,\"#fdca26\"],[1.0,\"#f0f921\"]]}],\"heatmapgl\":[{\"type\":\"heatmapgl\",\"colorbar\":{\"outlinewidth\":0,\"ticks\":\"\"},\"colorscale\":[[0.0,\"#0d0887\"],[0.1111111111111111,\"#46039f\"],[0.2222222222222222,\"#7201a8\"],[0.3333333333333333,\"#9c179e\"],[0.4444444444444444,\"#bd3786\"],[0.5555555555555556,\"#d8576b\"],[0.6666666666666666,\"#ed7953\"],[0.7777777777777778,\"#fb9f3a\"],[0.8888888888888888,\"#fdca26\"],[1.0,\"#f0f921\"]]}],\"contourcarpet\":[{\"type\":\"contourcarpet\",\"colorbar\":{\"outlinewidth\":0,\"ticks\":\"\"}}],\"contour\":[{\"type\":\"contour\",\"colorbar\":{\"outlinewidth\":0,\"ticks\":\"\"},\"colorscale\":[[0.0,\"#0d0887\"],[0.1111111111111111,\"#46039f\"],[0.2222222222222222,\"#7201a8\"],[0.3333333333333333,\"#9c179e\"],[0.4444444444444444,\"#bd3786\"],[0.5555555555555556,\"#d8576b\"],[0.6666666666666666,\"#ed7953\"],[0.7777777777777778,\"#fb9f3a\"],[0.8888888888888888,\"#fdca26\"],[1.0,\"#f0f921\"]]}],\"surface\":[{\"type\":\"surface\",\"colorbar\":{\"outlinewidth\":0,\"ticks\":\"\"},\"colorscale\":[[0.0,\"#0d0887\"],[0.1111111111111111,\"#46039f\"],[0.2222222222222222,\"#7201a8\"],[0.3333333333333333,\"#9c179e\"],[0.4444444444444444,\"#bd3786\"],[0.5555555555555556,\"#d8576b\"],[0.6666666666666666,\"#ed7953\"],[0.7777777777777778,\"#fb9f3a\"],[0.8888888888888888,\"#fdca26\"],[1.0,\"#f0f921\"]]}],\"mesh3d\":[{\"type\":\"mesh3d\",\"colorbar\":{\"outlinewidth\":0,\"ticks\":\"\"}}],\"scatter\":[{\"fillpattern\":{\"fillmode\":\"overlay\",\"size\":10,\"solidity\":0.2},\"type\":\"scatter\"}],\"parcoords\":[{\"type\":\"parcoords\",\"line\":{\"colorbar\":{\"outlinewidth\":0,\"ticks\":\"\"}}}],\"scatterpolargl\":[{\"type\":\"scatterpolargl\",\"marker\":{\"colorbar\":{\"outlinewidth\":0,\"ticks\":\"\"}}}],\"bar\":[{\"error_x\":{\"color\":\"#2a3f5f\"},\"error_y\":{\"color\":\"#2a3f5f\"},\"marker\":{\"line\":{\"color\":\"#E5ECF6\",\"width\":0.5},\"pattern\":{\"fillmode\":\"overlay\",\"size\":10,\"solidity\":0.2}},\"type\":\"bar\"}],\"scattergeo\":[{\"type\":\"scattergeo\",\"marker\":{\"colorbar\":{\"outlinewidth\":0,\"ticks\":\"\"}}}],\"scatterpolar\":[{\"type\":\"scatterpolar\",\"marker\":{\"colorbar\":{\"outlinewidth\":0,\"ticks\":\"\"}}}],\"histogram\":[{\"marker\":{\"pattern\":{\"fillmode\":\"overlay\",\"size\":10,\"solidity\":0.2}},\"type\":\"histogram\"}],\"scattergl\":[{\"type\":\"scattergl\",\"marker\":{\"colorbar\":{\"outlinewidth\":0,\"ticks\":\"\"}}}],\"scatter3d\":[{\"type\":\"scatter3d\",\"line\":{\"colorbar\":{\"outlinewidth\":0,\"ticks\":\"\"}},\"marker\":{\"colorbar\":{\"outlinewidth\":0,\"ticks\":\"\"}}}],\"scattermapbox\":[{\"type\":\"scattermapbox\",\"marker\":{\"colorbar\":{\"outlinewidth\":0,\"ticks\":\"\"}}}],\"scatterternary\":[{\"type\":\"scatterternary\",\"marker\":{\"colorbar\":{\"outlinewidth\":0,\"ticks\":\"\"}}}],\"scattercarpet\":[{\"type\":\"scattercarpet\",\"marker\":{\"colorbar\":{\"outlinewidth\":0,\"ticks\":\"\"}}}],\"carpet\":[{\"aaxis\":{\"endlinecolor\":\"#2a3f5f\",\"gridcolor\":\"white\",\"linecolor\":\"white\",\"minorgridcolor\":\"white\",\"startlinecolor\":\"#2a3f5f\"},\"baxis\":{\"endlinecolor\":\"#2a3f5f\",\"gridcolor\":\"white\",\"linecolor\":\"white\",\"minorgridcolor\":\"white\",\"startlinecolor\":\"#2a3f5f\"},\"type\":\"carpet\"}],\"table\":[{\"cells\":{\"fill\":{\"color\":\"#EBF0F8\"},\"line\":{\"color\":\"white\"}},\"header\":{\"fill\":{\"color\":\"#C8D4E3\"},\"line\":{\"color\":\"white\"}},\"type\":\"table\"}],\"barpolar\":[{\"marker\":{\"line\":{\"color\":\"#E5ECF6\",\"width\":0.5},\"pattern\":{\"fillmode\":\"overlay\",\"size\":10,\"solidity\":0.2}},\"type\":\"barpolar\"}],\"pie\":[{\"automargin\":true,\"type\":\"pie\"}]},\"layout\":{\"autotypenumbers\":\"strict\",\"colorway\":[\"#636efa\",\"#EF553B\",\"#00cc96\",\"#ab63fa\",\"#FFA15A\",\"#19d3f3\",\"#FF6692\",\"#B6E880\",\"#FF97FF\",\"#FECB52\"],\"font\":{\"color\":\"#2a3f5f\"},\"hovermode\":\"closest\",\"hoverlabel\":{\"align\":\"left\"},\"paper_bgcolor\":\"white\",\"plot_bgcolor\":\"#E5ECF6\",\"polar\":{\"bgcolor\":\"#E5ECF6\",\"angularaxis\":{\"gridcolor\":\"white\",\"linecolor\":\"white\",\"ticks\":\"\"},\"radialaxis\":{\"gridcolor\":\"white\",\"linecolor\":\"white\",\"ticks\":\"\"}},\"ternary\":{\"bgcolor\":\"#E5ECF6\",\"aaxis\":{\"gridcolor\":\"white\",\"linecolor\":\"white\",\"ticks\":\"\"},\"baxis\":{\"gridcolor\":\"white\",\"linecolor\":\"white\",\"ticks\":\"\"},\"caxis\":{\"gridcolor\":\"white\",\"linecolor\":\"white\",\"ticks\":\"\"}},\"coloraxis\":{\"colorbar\":{\"outlinewidth\":0,\"ticks\":\"\"}},\"colorscale\":{\"sequential\":[[0.0,\"#0d0887\"],[0.1111111111111111,\"#46039f\"],[0.2222222222222222,\"#7201a8\"],[0.3333333333333333,\"#9c179e\"],[0.4444444444444444,\"#bd3786\"],[0.5555555555555556,\"#d8576b\"],[0.6666666666666666,\"#ed7953\"],[0.7777777777777778,\"#fb9f3a\"],[0.8888888888888888,\"#fdca26\"],[1.0,\"#f0f921\"]],\"sequentialminus\":[[0.0,\"#0d0887\"],[0.1111111111111111,\"#46039f\"],[0.2222222222222222,\"#7201a8\"],[0.3333333333333333,\"#9c179e\"],[0.4444444444444444,\"#bd3786\"],[0.5555555555555556,\"#d8576b\"],[0.6666666666666666,\"#ed7953\"],[0.7777777777777778,\"#fb9f3a\"],[0.8888888888888888,\"#fdca26\"],[1.0,\"#f0f921\"]],\"diverging\":[[0,\"#8e0152\"],[0.1,\"#c51b7d\"],[0.2,\"#de77ae\"],[0.3,\"#f1b6da\"],[0.4,\"#fde0ef\"],[0.5,\"#f7f7f7\"],[0.6,\"#e6f5d0\"],[0.7,\"#b8e186\"],[0.8,\"#7fbc41\"],[0.9,\"#4d9221\"],[1,\"#276419\"]]},\"xaxis\":{\"gridcolor\":\"white\",\"linecolor\":\"white\",\"ticks\":\"\",\"title\":{\"standoff\":15},\"zerolinecolor\":\"white\",\"automargin\":true,\"zerolinewidth\":2},\"yaxis\":{\"gridcolor\":\"white\",\"linecolor\":\"white\",\"ticks\":\"\",\"title\":{\"standoff\":15},\"zerolinecolor\":\"white\",\"automargin\":true,\"zerolinewidth\":2},\"scene\":{\"xaxis\":{\"backgroundcolor\":\"#E5ECF6\",\"gridcolor\":\"white\",\"linecolor\":\"white\",\"showbackground\":true,\"ticks\":\"\",\"zerolinecolor\":\"white\",\"gridwidth\":2},\"yaxis\":{\"backgroundcolor\":\"#E5ECF6\",\"gridcolor\":\"white\",\"linecolor\":\"white\",\"showbackground\":true,\"ticks\":\"\",\"zerolinecolor\":\"white\",\"gridwidth\":2},\"zaxis\":{\"backgroundcolor\":\"#E5ECF6\",\"gridcolor\":\"white\",\"linecolor\":\"white\",\"showbackground\":true,\"ticks\":\"\",\"zerolinecolor\":\"white\",\"gridwidth\":2}},\"shapedefaults\":{\"line\":{\"color\":\"#2a3f5f\"}},\"annotationdefaults\":{\"arrowcolor\":\"#2a3f5f\",\"arrowhead\":0,\"arrowwidth\":1},\"geo\":{\"bgcolor\":\"white\",\"landcolor\":\"#E5ECF6\",\"subunitcolor\":\"white\",\"showland\":true,\"showlakes\":true,\"lakecolor\":\"white\"},\"title\":{\"x\":0.05},\"mapbox\":{\"style\":\"light\"}}},\"scene\":{\"domain\":{\"x\":[0.0,1.0],\"y\":[0.0,1.0]},\"xaxis\":{\"title\":{\"text\":\"sepal_width\"}},\"yaxis\":{\"title\":{\"text\":\"sepal_length\"}},\"zaxis\":{\"title\":{\"text\":\"petal_width\"}}},\"legend\":{\"title\":{\"text\":\"species\"},\"tracegroupgap\":0},\"margin\":{\"t\":60}},                        {\"responsive\": true}                    ).then(function(){\n",
              "                            \n",
              "var gd = document.getElementById('b880f8fd-18a5-437d-baf1-9d24e7b6e08f');\n",
              "var x = new MutationObserver(function (mutations, observer) {{\n",
              "        var display = window.getComputedStyle(gd).display;\n",
              "        if (!display || display === 'none') {{\n",
              "            console.log([gd, 'removed!']);\n",
              "            Plotly.purge(gd);\n",
              "            observer.disconnect();\n",
              "        }}\n",
              "}});\n",
              "\n",
              "// Listen for the removal of the full notebook cells\n",
              "var notebookContainer = gd.closest('#notebook-container');\n",
              "if (notebookContainer) {{\n",
              "    x.observe(notebookContainer, {childList: true});\n",
              "}}\n",
              "\n",
              "// Listen for the clearing of the current output cell\n",
              "var outputEl = gd.closest('.output');\n",
              "if (outputEl) {{\n",
              "    x.observe(outputEl, {childList: true});\n",
              "}}\n",
              "\n",
              "                        })                };                            </script>        </div>\n",
              "</body>\n",
              "</html>"
            ]
          },
          "metadata": {}
        }
      ]
    }
  ]
}